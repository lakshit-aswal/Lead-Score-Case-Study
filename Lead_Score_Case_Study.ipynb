{
 "cells": [
  {
   "cell_type": "markdown",
   "id": "84718c3e",
   "metadata": {},
   "source": [
    "## Steps we are going to follow:\n",
    "\n",
    "1. Reading, understanding and cleaning the dataset.\n",
    "2. Exploratory Data Analysis (EDA).\n",
    "3. Handling dataset with Dummy variable creations.\n",
    "4. Scaling the dataset.\n",
    "5. Splitting the data into train and test sets.\n",
    "6. Building the model.\n",
    "7. Model Evaluation.\n",
    "8. Prediction on test set."
   ]
  },
  {
   "cell_type": "code",
   "execution_count": 1,
   "id": "205218fe",
   "metadata": {},
   "outputs": [],
   "source": [
    "# Importing necessary libararies\n",
    "\n",
    "import pandas as pd\n",
    "import numpy as np\n",
    "import matplotlib.pyplot as plt\n",
    "import seaborn as sns\n",
    "\n",
    "# Importing warnings to suppress any\n",
    "\n",
    "import warnings\n",
    "warnings.filterwarnings('ignore')\n",
    "\n",
    "%matplotlib inline"
   ]
  },
  {
   "cell_type": "markdown",
   "id": "40339294",
   "metadata": {},
   "source": [
    "## Reading and understanding the data"
   ]
  },
  {
   "cell_type": "code",
   "execution_count": 2,
   "id": "05fb3d14",
   "metadata": {},
   "outputs": [
    {
     "data": {
      "text/html": [
       "<div>\n",
       "<style scoped>\n",
       "    .dataframe tbody tr th:only-of-type {\n",
       "        vertical-align: middle;\n",
       "    }\n",
       "\n",
       "    .dataframe tbody tr th {\n",
       "        vertical-align: top;\n",
       "    }\n",
       "\n",
       "    .dataframe thead th {\n",
       "        text-align: right;\n",
       "    }\n",
       "</style>\n",
       "<table border=\"1\" class=\"dataframe\">\n",
       "  <thead>\n",
       "    <tr style=\"text-align: right;\">\n",
       "      <th></th>\n",
       "      <th>Prospect ID</th>\n",
       "      <th>Lead Number</th>\n",
       "      <th>Lead Origin</th>\n",
       "      <th>Lead Source</th>\n",
       "      <th>Do Not Email</th>\n",
       "      <th>Do Not Call</th>\n",
       "      <th>Converted</th>\n",
       "      <th>TotalVisits</th>\n",
       "      <th>Total Time Spent on Website</th>\n",
       "      <th>Page Views Per Visit</th>\n",
       "      <th>...</th>\n",
       "      <th>Get updates on DM Content</th>\n",
       "      <th>Lead Profile</th>\n",
       "      <th>City</th>\n",
       "      <th>Asymmetrique Activity Index</th>\n",
       "      <th>Asymmetrique Profile Index</th>\n",
       "      <th>Asymmetrique Activity Score</th>\n",
       "      <th>Asymmetrique Profile Score</th>\n",
       "      <th>I agree to pay the amount through cheque</th>\n",
       "      <th>A free copy of Mastering The Interview</th>\n",
       "      <th>Last Notable Activity</th>\n",
       "    </tr>\n",
       "  </thead>\n",
       "  <tbody>\n",
       "    <tr>\n",
       "      <th>0</th>\n",
       "      <td>7927b2df-8bba-4d29-b9a2-b6e0beafe620</td>\n",
       "      <td>660737</td>\n",
       "      <td>API</td>\n",
       "      <td>Olark Chat</td>\n",
       "      <td>No</td>\n",
       "      <td>No</td>\n",
       "      <td>0</td>\n",
       "      <td>0.0</td>\n",
       "      <td>0</td>\n",
       "      <td>0.0</td>\n",
       "      <td>...</td>\n",
       "      <td>No</td>\n",
       "      <td>Select</td>\n",
       "      <td>Select</td>\n",
       "      <td>02.Medium</td>\n",
       "      <td>02.Medium</td>\n",
       "      <td>15.0</td>\n",
       "      <td>15.0</td>\n",
       "      <td>No</td>\n",
       "      <td>No</td>\n",
       "      <td>Modified</td>\n",
       "    </tr>\n",
       "    <tr>\n",
       "      <th>1</th>\n",
       "      <td>2a272436-5132-4136-86fa-dcc88c88f482</td>\n",
       "      <td>660728</td>\n",
       "      <td>API</td>\n",
       "      <td>Organic Search</td>\n",
       "      <td>No</td>\n",
       "      <td>No</td>\n",
       "      <td>0</td>\n",
       "      <td>5.0</td>\n",
       "      <td>674</td>\n",
       "      <td>2.5</td>\n",
       "      <td>...</td>\n",
       "      <td>No</td>\n",
       "      <td>Select</td>\n",
       "      <td>Select</td>\n",
       "      <td>02.Medium</td>\n",
       "      <td>02.Medium</td>\n",
       "      <td>15.0</td>\n",
       "      <td>15.0</td>\n",
       "      <td>No</td>\n",
       "      <td>No</td>\n",
       "      <td>Email Opened</td>\n",
       "    </tr>\n",
       "    <tr>\n",
       "      <th>2</th>\n",
       "      <td>8cc8c611-a219-4f35-ad23-fdfd2656bd8a</td>\n",
       "      <td>660727</td>\n",
       "      <td>Landing Page Submission</td>\n",
       "      <td>Direct Traffic</td>\n",
       "      <td>No</td>\n",
       "      <td>No</td>\n",
       "      <td>1</td>\n",
       "      <td>2.0</td>\n",
       "      <td>1532</td>\n",
       "      <td>2.0</td>\n",
       "      <td>...</td>\n",
       "      <td>No</td>\n",
       "      <td>Potential Lead</td>\n",
       "      <td>Mumbai</td>\n",
       "      <td>02.Medium</td>\n",
       "      <td>01.High</td>\n",
       "      <td>14.0</td>\n",
       "      <td>20.0</td>\n",
       "      <td>No</td>\n",
       "      <td>Yes</td>\n",
       "      <td>Email Opened</td>\n",
       "    </tr>\n",
       "    <tr>\n",
       "      <th>3</th>\n",
       "      <td>0cc2df48-7cf4-4e39-9de9-19797f9b38cc</td>\n",
       "      <td>660719</td>\n",
       "      <td>Landing Page Submission</td>\n",
       "      <td>Direct Traffic</td>\n",
       "      <td>No</td>\n",
       "      <td>No</td>\n",
       "      <td>0</td>\n",
       "      <td>1.0</td>\n",
       "      <td>305</td>\n",
       "      <td>1.0</td>\n",
       "      <td>...</td>\n",
       "      <td>No</td>\n",
       "      <td>Select</td>\n",
       "      <td>Mumbai</td>\n",
       "      <td>02.Medium</td>\n",
       "      <td>01.High</td>\n",
       "      <td>13.0</td>\n",
       "      <td>17.0</td>\n",
       "      <td>No</td>\n",
       "      <td>No</td>\n",
       "      <td>Modified</td>\n",
       "    </tr>\n",
       "    <tr>\n",
       "      <th>4</th>\n",
       "      <td>3256f628-e534-4826-9d63-4a8b88782852</td>\n",
       "      <td>660681</td>\n",
       "      <td>Landing Page Submission</td>\n",
       "      <td>Google</td>\n",
       "      <td>No</td>\n",
       "      <td>No</td>\n",
       "      <td>1</td>\n",
       "      <td>2.0</td>\n",
       "      <td>1428</td>\n",
       "      <td>1.0</td>\n",
       "      <td>...</td>\n",
       "      <td>No</td>\n",
       "      <td>Select</td>\n",
       "      <td>Mumbai</td>\n",
       "      <td>02.Medium</td>\n",
       "      <td>01.High</td>\n",
       "      <td>15.0</td>\n",
       "      <td>18.0</td>\n",
       "      <td>No</td>\n",
       "      <td>No</td>\n",
       "      <td>Modified</td>\n",
       "    </tr>\n",
       "  </tbody>\n",
       "</table>\n",
       "<p>5 rows × 37 columns</p>\n",
       "</div>"
      ],
      "text/plain": [
       "                            Prospect ID  Lead Number              Lead Origin  \\\n",
       "0  7927b2df-8bba-4d29-b9a2-b6e0beafe620       660737                      API   \n",
       "1  2a272436-5132-4136-86fa-dcc88c88f482       660728                      API   \n",
       "2  8cc8c611-a219-4f35-ad23-fdfd2656bd8a       660727  Landing Page Submission   \n",
       "3  0cc2df48-7cf4-4e39-9de9-19797f9b38cc       660719  Landing Page Submission   \n",
       "4  3256f628-e534-4826-9d63-4a8b88782852       660681  Landing Page Submission   \n",
       "\n",
       "      Lead Source Do Not Email Do Not Call  Converted  TotalVisits  \\\n",
       "0      Olark Chat           No          No          0          0.0   \n",
       "1  Organic Search           No          No          0          5.0   \n",
       "2  Direct Traffic           No          No          1          2.0   \n",
       "3  Direct Traffic           No          No          0          1.0   \n",
       "4          Google           No          No          1          2.0   \n",
       "\n",
       "   Total Time Spent on Website  Page Views Per Visit  ...  \\\n",
       "0                            0                   0.0  ...   \n",
       "1                          674                   2.5  ...   \n",
       "2                         1532                   2.0  ...   \n",
       "3                          305                   1.0  ...   \n",
       "4                         1428                   1.0  ...   \n",
       "\n",
       "  Get updates on DM Content    Lead Profile    City  \\\n",
       "0                        No          Select  Select   \n",
       "1                        No          Select  Select   \n",
       "2                        No  Potential Lead  Mumbai   \n",
       "3                        No          Select  Mumbai   \n",
       "4                        No          Select  Mumbai   \n",
       "\n",
       "  Asymmetrique Activity Index Asymmetrique Profile Index  \\\n",
       "0                   02.Medium                  02.Medium   \n",
       "1                   02.Medium                  02.Medium   \n",
       "2                   02.Medium                    01.High   \n",
       "3                   02.Medium                    01.High   \n",
       "4                   02.Medium                    01.High   \n",
       "\n",
       "  Asymmetrique Activity Score Asymmetrique Profile Score  \\\n",
       "0                        15.0                       15.0   \n",
       "1                        15.0                       15.0   \n",
       "2                        14.0                       20.0   \n",
       "3                        13.0                       17.0   \n",
       "4                        15.0                       18.0   \n",
       "\n",
       "  I agree to pay the amount through cheque  \\\n",
       "0                                       No   \n",
       "1                                       No   \n",
       "2                                       No   \n",
       "3                                       No   \n",
       "4                                       No   \n",
       "\n",
       "  A free copy of Mastering The Interview Last Notable Activity  \n",
       "0                                     No              Modified  \n",
       "1                                     No          Email Opened  \n",
       "2                                    Yes          Email Opened  \n",
       "3                                     No              Modified  \n",
       "4                                     No              Modified  \n",
       "\n",
       "[5 rows x 37 columns]"
      ]
     },
     "execution_count": 2,
     "metadata": {},
     "output_type": "execute_result"
    }
   ],
   "source": [
    "# Importing the dataset with pandas.\n",
    "\n",
    "lead_df = pd.read_csv('Leads.csv')\n",
    "lead_df.head()"
   ]
  },
  {
   "cell_type": "code",
   "execution_count": 3,
   "id": "a791f4b2",
   "metadata": {},
   "outputs": [
    {
     "name": "stdout",
     "output_type": "stream",
     "text": [
      "<class 'pandas.core.frame.DataFrame'>\n",
      "RangeIndex: 9240 entries, 0 to 9239\n",
      "Data columns (total 37 columns):\n",
      " #   Column                                         Non-Null Count  Dtype  \n",
      "---  ------                                         --------------  -----  \n",
      " 0   Prospect ID                                    9240 non-null   object \n",
      " 1   Lead Number                                    9240 non-null   int64  \n",
      " 2   Lead Origin                                    9240 non-null   object \n",
      " 3   Lead Source                                    9204 non-null   object \n",
      " 4   Do Not Email                                   9240 non-null   object \n",
      " 5   Do Not Call                                    9240 non-null   object \n",
      " 6   Converted                                      9240 non-null   int64  \n",
      " 7   TotalVisits                                    9103 non-null   float64\n",
      " 8   Total Time Spent on Website                    9240 non-null   int64  \n",
      " 9   Page Views Per Visit                           9103 non-null   float64\n",
      " 10  Last Activity                                  9137 non-null   object \n",
      " 11  Country                                        6779 non-null   object \n",
      " 12  Specialization                                 7802 non-null   object \n",
      " 13  How did you hear about X Education             7033 non-null   object \n",
      " 14  What is your current occupation                6550 non-null   object \n",
      " 15  What matters most to you in choosing a course  6531 non-null   object \n",
      " 16  Search                                         9240 non-null   object \n",
      " 17  Magazine                                       9240 non-null   object \n",
      " 18  Newspaper Article                              9240 non-null   object \n",
      " 19  X Education Forums                             9240 non-null   object \n",
      " 20  Newspaper                                      9240 non-null   object \n",
      " 21  Digital Advertisement                          9240 non-null   object \n",
      " 22  Through Recommendations                        9240 non-null   object \n",
      " 23  Receive More Updates About Our Courses         9240 non-null   object \n",
      " 24  Tags                                           5887 non-null   object \n",
      " 25  Lead Quality                                   4473 non-null   object \n",
      " 26  Update me on Supply Chain Content              9240 non-null   object \n",
      " 27  Get updates on DM Content                      9240 non-null   object \n",
      " 28  Lead Profile                                   6531 non-null   object \n",
      " 29  City                                           7820 non-null   object \n",
      " 30  Asymmetrique Activity Index                    5022 non-null   object \n",
      " 31  Asymmetrique Profile Index                     5022 non-null   object \n",
      " 32  Asymmetrique Activity Score                    5022 non-null   float64\n",
      " 33  Asymmetrique Profile Score                     5022 non-null   float64\n",
      " 34  I agree to pay the amount through cheque       9240 non-null   object \n",
      " 35  A free copy of Mastering The Interview         9240 non-null   object \n",
      " 36  Last Notable Activity                          9240 non-null   object \n",
      "dtypes: float64(4), int64(3), object(30)\n",
      "memory usage: 2.6+ MB\n"
     ]
    }
   ],
   "source": [
    "# Checking info of the data columns\n",
    "\n",
    "lead_df.info()"
   ]
  },
  {
   "cell_type": "code",
   "execution_count": 4,
   "id": "af1c6595",
   "metadata": {},
   "outputs": [
    {
     "data": {
      "text/html": [
       "<div>\n",
       "<style scoped>\n",
       "    .dataframe tbody tr th:only-of-type {\n",
       "        vertical-align: middle;\n",
       "    }\n",
       "\n",
       "    .dataframe tbody tr th {\n",
       "        vertical-align: top;\n",
       "    }\n",
       "\n",
       "    .dataframe thead th {\n",
       "        text-align: right;\n",
       "    }\n",
       "</style>\n",
       "<table border=\"1\" class=\"dataframe\">\n",
       "  <thead>\n",
       "    <tr style=\"text-align: right;\">\n",
       "      <th></th>\n",
       "      <th>Lead Number</th>\n",
       "      <th>Converted</th>\n",
       "      <th>TotalVisits</th>\n",
       "      <th>Total Time Spent on Website</th>\n",
       "      <th>Page Views Per Visit</th>\n",
       "      <th>Asymmetrique Activity Score</th>\n",
       "      <th>Asymmetrique Profile Score</th>\n",
       "    </tr>\n",
       "  </thead>\n",
       "  <tbody>\n",
       "    <tr>\n",
       "      <th>count</th>\n",
       "      <td>9240.000000</td>\n",
       "      <td>9240.000000</td>\n",
       "      <td>9103.000000</td>\n",
       "      <td>9240.000000</td>\n",
       "      <td>9103.000000</td>\n",
       "      <td>5022.000000</td>\n",
       "      <td>5022.000000</td>\n",
       "    </tr>\n",
       "    <tr>\n",
       "      <th>mean</th>\n",
       "      <td>617188.435606</td>\n",
       "      <td>0.385390</td>\n",
       "      <td>3.445238</td>\n",
       "      <td>487.698268</td>\n",
       "      <td>2.362820</td>\n",
       "      <td>14.306252</td>\n",
       "      <td>16.344883</td>\n",
       "    </tr>\n",
       "    <tr>\n",
       "      <th>std</th>\n",
       "      <td>23405.995698</td>\n",
       "      <td>0.486714</td>\n",
       "      <td>4.854853</td>\n",
       "      <td>548.021466</td>\n",
       "      <td>2.161418</td>\n",
       "      <td>1.386694</td>\n",
       "      <td>1.811395</td>\n",
       "    </tr>\n",
       "    <tr>\n",
       "      <th>min</th>\n",
       "      <td>579533.000000</td>\n",
       "      <td>0.000000</td>\n",
       "      <td>0.000000</td>\n",
       "      <td>0.000000</td>\n",
       "      <td>0.000000</td>\n",
       "      <td>7.000000</td>\n",
       "      <td>11.000000</td>\n",
       "    </tr>\n",
       "    <tr>\n",
       "      <th>25%</th>\n",
       "      <td>596484.500000</td>\n",
       "      <td>0.000000</td>\n",
       "      <td>1.000000</td>\n",
       "      <td>12.000000</td>\n",
       "      <td>1.000000</td>\n",
       "      <td>14.000000</td>\n",
       "      <td>15.000000</td>\n",
       "    </tr>\n",
       "    <tr>\n",
       "      <th>50%</th>\n",
       "      <td>615479.000000</td>\n",
       "      <td>0.000000</td>\n",
       "      <td>3.000000</td>\n",
       "      <td>248.000000</td>\n",
       "      <td>2.000000</td>\n",
       "      <td>14.000000</td>\n",
       "      <td>16.000000</td>\n",
       "    </tr>\n",
       "    <tr>\n",
       "      <th>75%</th>\n",
       "      <td>637387.250000</td>\n",
       "      <td>1.000000</td>\n",
       "      <td>5.000000</td>\n",
       "      <td>936.000000</td>\n",
       "      <td>3.000000</td>\n",
       "      <td>15.000000</td>\n",
       "      <td>18.000000</td>\n",
       "    </tr>\n",
       "    <tr>\n",
       "      <th>max</th>\n",
       "      <td>660737.000000</td>\n",
       "      <td>1.000000</td>\n",
       "      <td>251.000000</td>\n",
       "      <td>2272.000000</td>\n",
       "      <td>55.000000</td>\n",
       "      <td>18.000000</td>\n",
       "      <td>20.000000</td>\n",
       "    </tr>\n",
       "  </tbody>\n",
       "</table>\n",
       "</div>"
      ],
      "text/plain": [
       "         Lead Number    Converted  TotalVisits  Total Time Spent on Website  \\\n",
       "count    9240.000000  9240.000000  9103.000000                  9240.000000   \n",
       "mean   617188.435606     0.385390     3.445238                   487.698268   \n",
       "std     23405.995698     0.486714     4.854853                   548.021466   \n",
       "min    579533.000000     0.000000     0.000000                     0.000000   \n",
       "25%    596484.500000     0.000000     1.000000                    12.000000   \n",
       "50%    615479.000000     0.000000     3.000000                   248.000000   \n",
       "75%    637387.250000     1.000000     5.000000                   936.000000   \n",
       "max    660737.000000     1.000000   251.000000                  2272.000000   \n",
       "\n",
       "       Page Views Per Visit  Asymmetrique Activity Score  \\\n",
       "count           9103.000000                  5022.000000   \n",
       "mean               2.362820                    14.306252   \n",
       "std                2.161418                     1.386694   \n",
       "min                0.000000                     7.000000   \n",
       "25%                1.000000                    14.000000   \n",
       "50%                2.000000                    14.000000   \n",
       "75%                3.000000                    15.000000   \n",
       "max               55.000000                    18.000000   \n",
       "\n",
       "       Asymmetrique Profile Score  \n",
       "count                 5022.000000  \n",
       "mean                    16.344883  \n",
       "std                      1.811395  \n",
       "min                     11.000000  \n",
       "25%                     15.000000  \n",
       "50%                     16.000000  \n",
       "75%                     18.000000  \n",
       "max                     20.000000  "
      ]
     },
     "execution_count": 4,
     "metadata": {},
     "output_type": "execute_result"
    }
   ],
   "source": [
    "# Checking the data with some statistical measures.\n",
    "\n",
    "lead_df.describe()"
   ]
  },
  {
   "cell_type": "markdown",
   "id": "70eecb8d",
   "metadata": {},
   "source": [
    "## Data cleaning"
   ]
  },
  {
   "cell_type": "code",
   "execution_count": 5,
   "id": "77951de2",
   "metadata": {},
   "outputs": [
    {
     "data": {
      "text/plain": [
       "True"
      ]
     },
     "execution_count": 5,
     "metadata": {},
     "output_type": "execute_result"
    }
   ],
   "source": [
    "# Checking if there are any duplicate values for 'Lead Number'\n",
    "\n",
    "sum(lead_df.duplicated(subset = 'Lead Number')) == 0"
   ]
  },
  {
   "cell_type": "markdown",
   "id": "ce1e0120",
   "metadata": {},
   "source": [
    "Turns out there are no duplicate numbers or records.<br>\n",
    "So, we can drop the 'Lead Number' and 'Prospect ID' as they are just IDs assigned to the leads."
   ]
  },
  {
   "cell_type": "code",
   "execution_count": 6,
   "id": "2af998c7",
   "metadata": {},
   "outputs": [],
   "source": [
    "lead_df.drop(['Prospect ID', 'Lead Number'], axis = 1, inplace = True)"
   ]
  },
  {
   "cell_type": "markdown",
   "id": "5999fb74",
   "metadata": {},
   "source": [
    "Now, let's check the columns that were having 'select' elements in them."
   ]
  },
  {
   "cell_type": "code",
   "execution_count": 7,
   "id": "bf21a3b5",
   "metadata": {},
   "outputs": [
    {
     "data": {
      "text/plain": [
       "Select                               1942\n",
       "Finance Management                    976\n",
       "Human Resource Management             848\n",
       "Marketing Management                  838\n",
       "Operations Management                 503\n",
       "Business Administration               403\n",
       "IT Projects Management                366\n",
       "Supply Chain Management               349\n",
       "Banking, Investment And Insurance     338\n",
       "Travel and Tourism                    203\n",
       "Media and Advertising                 203\n",
       "International Business                178\n",
       "Healthcare Management                 159\n",
       "Hospitality Management                114\n",
       "E-COMMERCE                            112\n",
       "Retail Management                     100\n",
       "Rural and Agribusiness                 73\n",
       "E-Business                             57\n",
       "Services Excellence                    40\n",
       "Name: Specialization, dtype: int64"
      ]
     },
     "execution_count": 7,
     "metadata": {},
     "output_type": "execute_result"
    }
   ],
   "source": [
    "lead_df.Specialization.value_counts()"
   ]
  },
  {
   "cell_type": "code",
   "execution_count": 8,
   "id": "0838fd5e",
   "metadata": {},
   "outputs": [
    {
     "data": {
      "text/plain": [
       "Select                   5043\n",
       "Online Search             808\n",
       "Word Of Mouth             348\n",
       "Student of SomeSchool     310\n",
       "Other                     186\n",
       "Multiple Sources          152\n",
       "Advertisements             70\n",
       "Social Media               67\n",
       "Email                      26\n",
       "SMS                        23\n",
       "Name: How did you hear about X Education, dtype: int64"
      ]
     },
     "execution_count": 8,
     "metadata": {},
     "output_type": "execute_result"
    }
   ],
   "source": [
    "lead_df['How did you hear about X Education'].value_counts()"
   ]
  },
  {
   "cell_type": "code",
   "execution_count": 9,
   "id": "8e2167d6",
   "metadata": {},
   "outputs": [],
   "source": [
    "# lead_df['Lead Profile'].value_counts()"
   ]
  },
  {
   "cell_type": "code",
   "execution_count": 10,
   "id": "a9a912a2",
   "metadata": {},
   "outputs": [
    {
     "data": {
      "text/plain": [
       "Mumbai                         3222\n",
       "Select                         2249\n",
       "Thane & Outskirts               752\n",
       "Other Cities                    686\n",
       "Other Cities of Maharashtra     457\n",
       "Other Metro Cities              380\n",
       "Tier II Cities                   74\n",
       "Name: City, dtype: int64"
      ]
     },
     "execution_count": 10,
     "metadata": {},
     "output_type": "execute_result"
    }
   ],
   "source": [
    "lead_df.City.value_counts()"
   ]
  },
  {
   "cell_type": "markdown",
   "id": "93e87000",
   "metadata": {},
   "source": [
    "Visualizing the above columns to get an overview of distribution and their relation with target variable."
   ]
  },
  {
   "cell_type": "code",
   "execution_count": 11,
   "id": "dadbb151",
   "metadata": {},
   "outputs": [
    {
     "data": {
      "image/png": "[encoded data removed]",
      "text/plain": [
       "<Figure size 1080x864 with 3 Axes>"
      ]
     },
     "metadata": {
      "needs_background": "light"
     },
     "output_type": "display_data"
    }
   ],
   "source": [
    "fig = plt.figure(figsize=(15, 12))\n",
    "\n",
    "plt.subplot(2,2,1)\n",
    "sns.barplot(x = 'Specialization', y = 'Converted', data = lead_df).tick_params(axis='x', rotation = 90)\n",
    "\n",
    "plt.subplot(2,2,2)\n",
    "sns.barplot(x = 'How did you hear about X Education', y = 'Converted', data = lead_df).tick_params(axis='x', rotation = 90)\n",
    "\n",
    "plt.subplot(2,2,3)\n",
    "sns.barplot(x = 'City', y = 'Converted', data = lead_df).tick_params(axis='x', rotation = 90)\n",
    "\n",
    "fig.tight_layout()\n",
    "plt.show()"
   ]
  },
  {
   "cell_type": "code",
   "execution_count": 12,
   "id": "deb5bea5",
   "metadata": {},
   "outputs": [],
   "source": [
    "# Converting 'Select' values to 'Unknown'\n",
    "\n",
    "df2 = lead_df.replace('Select', 'Unknown')"
   ]
  },
  {
   "cell_type": "code",
   "execution_count": 13,
   "id": "b4249546",
   "metadata": {},
   "outputs": [
    {
     "data": {
      "text/plain": [
       "Lead Origin                                         5\n",
       "Lead Source                                        21\n",
       "Do Not Email                                        2\n",
       "Do Not Call                                         2\n",
       "Converted                                           2\n",
       "TotalVisits                                        41\n",
       "Total Time Spent on Website                      1731\n",
       "Page Views Per Visit                              114\n",
       "Last Activity                                      17\n",
       "Country                                            38\n",
       "Specialization                                     19\n",
       "How did you hear about X Education                 10\n",
       "What is your current occupation                     6\n",
       "What matters most to you in choosing a course       3\n",
       "Search                                              2\n",
       "Magazine                                            1\n",
       "Newspaper Article                                   2\n",
       "X Education Forums                                  2\n",
       "Newspaper                                           2\n",
       "Digital Advertisement                               2\n",
       "Through Recommendations                             2\n",
       "Receive More Updates About Our Courses              1\n",
       "Tags                                               26\n",
       "Lead Quality                                        5\n",
       "Update me on Supply Chain Content                   1\n",
       "Get updates on DM Content                           1\n",
       "Lead Profile                                        6\n",
       "City                                                7\n",
       "Asymmetrique Activity Index                         3\n",
       "Asymmetrique Profile Index                          3\n",
       "Asymmetrique Activity Score                        12\n",
       "Asymmetrique Profile Score                         10\n",
       "I agree to pay the amount through cheque            1\n",
       "A free copy of Mastering The Interview              2\n",
       "Last Notable Activity                              16\n",
       "dtype: int64"
      ]
     },
     "execution_count": 13,
     "metadata": {},
     "output_type": "execute_result"
    }
   ],
   "source": [
    "# Checking unique values in each column to determine single valued columns.\n",
    "\n",
    "df2.nunique()"
   ]
  },
  {
   "cell_type": "code",
   "execution_count": 14,
   "id": "02ba1858",
   "metadata": {},
   "outputs": [],
   "source": [
    "# Dropping columns with one one unique values in them.\n",
    "\n",
    "df2 = df2.drop(['I agree to pay the amount through cheque', 'Get updates on DM Content', 'Update me on Supply Chain Content', 'Receive More Updates About Our Courses', 'Magazine'], axis = 1)"
   ]
  },
  {
   "cell_type": "code",
   "execution_count": 15,
   "id": "756e518b",
   "metadata": {},
   "outputs": [],
   "source": [
    "# Dropping the Sales generated columns.\n",
    "\n",
    "df2 = df2.drop(['Asymmetrique Activity Index', 'Asymmetrique Profile Index', 'Asymmetrique Activity Score', 'Asymmetrique Profile Score', 'Lead Quality', 'Tags', 'How did you hear about X Education', 'Last Activity', 'Last Notable Activity', 'Lead Profile'], axis = 1)"
   ]
  },
  {
   "cell_type": "markdown",
   "id": "5b392ccc",
   "metadata": {},
   "source": [
    "Now, let's check the percentage of null values in the data."
   ]
  },
  {
   "cell_type": "code",
   "execution_count": 16,
   "id": "41877a39",
   "metadata": {},
   "outputs": [
    {
     "data": {
      "text/plain": [
       "Lead Origin                                       0.00\n",
       "Lead Source                                       0.39\n",
       "Do Not Email                                      0.00\n",
       "Do Not Call                                       0.00\n",
       "Converted                                         0.00\n",
       "TotalVisits                                       1.48\n",
       "Total Time Spent on Website                       0.00\n",
       "Page Views Per Visit                              1.48\n",
       "Country                                          26.63\n",
       "Specialization                                   15.56\n",
       "What is your current occupation                  29.11\n",
       "What matters most to you in choosing a course    29.32\n",
       "Search                                            0.00\n",
       "Newspaper Article                                 0.00\n",
       "X Education Forums                                0.00\n",
       "Newspaper                                         0.00\n",
       "Digital Advertisement                             0.00\n",
       "Through Recommendations                           0.00\n",
       "City                                             15.37\n",
       "A free copy of Mastering The Interview            0.00\n",
       "dtype: float64"
      ]
     },
     "execution_count": 16,
     "metadata": {},
     "output_type": "execute_result"
    }
   ],
   "source": [
    "round(df2.isnull().sum()/len(df2) * 100, 2)"
   ]
  },
  {
   "cell_type": "markdown",
   "id": "64ffb487",
   "metadata": {},
   "source": [
    "So no column have null values more then 30% here, therefore let's start handling the available nulls."
   ]
  },
  {
   "cell_type": "code",
   "execution_count": 17,
   "id": "6a5943aa",
   "metadata": {},
   "outputs": [
    {
     "data": {
      "text/plain": [
       "India                   6492\n",
       "United States             69\n",
       "United Arab Emirates      53\n",
       "Singapore                 24\n",
       "Saudi Arabia              21\n",
       "United Kingdom            15\n",
       "Australia                 13\n",
       "Qatar                     10\n",
       "Hong Kong                  7\n",
       "Bahrain                    7\n",
       "France                     6\n",
       "Oman                       6\n",
       "unknown                    5\n",
       "Kuwait                     4\n",
       "Germany                    4\n",
       "Nigeria                    4\n",
       "South Africa               4\n",
       "Canada                     4\n",
       "Sweden                     3\n",
       "Ghana                      2\n",
       "Uganda                     2\n",
       "Bangladesh                 2\n",
       "Asia/Pacific Region        2\n",
       "China                      2\n",
       "Italy                      2\n",
       "Belgium                    2\n",
       "Netherlands                2\n",
       "Philippines                2\n",
       "Vietnam                    1\n",
       "Liberia                    1\n",
       "Sri Lanka                  1\n",
       "Tanzania                   1\n",
       "Kenya                      1\n",
       "Indonesia                  1\n",
       "Malaysia                   1\n",
       "Switzerland                1\n",
       "Denmark                    1\n",
       "Russia                     1\n",
       "Name: Country, dtype: int64"
      ]
     },
     "execution_count": 17,
     "metadata": {},
     "output_type": "execute_result"
    }
   ],
   "source": [
    "# Checking value counts in Country column\n",
    "\n",
    "df2.Country.value_counts()"
   ]
  },
  {
   "cell_type": "markdown",
   "id": "735692ed",
   "metadata": {},
   "source": [
    "We can see 'Country' column have 70% of values as 'India'.<br>\n",
    "It also have 26% null values which we will be replacing with a new category 'Not provided'.<br>"
   ]
  },
  {
   "cell_type": "code",
   "execution_count": 18,
   "id": "bf2f7600",
   "metadata": {},
   "outputs": [],
   "source": [
    "df2['Country'] = df2['Country'].fillna('not provided')"
   ]
  },
  {
   "cell_type": "code",
   "execution_count": 19,
   "id": "aa3e42af",
   "metadata": {},
   "outputs": [
    {
     "data": {
      "text/plain": [
       "India                   6492\n",
       "not provided            2461\n",
       "United States             69\n",
       "United Arab Emirates      53\n",
       "Singapore                 24\n",
       "Saudi Arabia              21\n",
       "United Kingdom            15\n",
       "Australia                 13\n",
       "Qatar                     10\n",
       "Hong Kong                  7\n",
       "Bahrain                    7\n",
       "France                     6\n",
       "Oman                       6\n",
       "unknown                    5\n",
       "Kuwait                     4\n",
       "Germany                    4\n",
       "Nigeria                    4\n",
       "South Africa               4\n",
       "Canada                     4\n",
       "Sweden                     3\n",
       "Belgium                    2\n",
       "China                      2\n",
       "Uganda                     2\n",
       "Philippines                2\n",
       "Netherlands                2\n",
       "Italy                      2\n",
       "Ghana                      2\n",
       "Asia/Pacific Region        2\n",
       "Bangladesh                 2\n",
       "Malaysia                   1\n",
       "Kenya                      1\n",
       "Indonesia                  1\n",
       "Switzerland                1\n",
       "Denmark                    1\n",
       "Tanzania                   1\n",
       "Sri Lanka                  1\n",
       "Liberia                    1\n",
       "Vietnam                    1\n",
       "Russia                     1\n",
       "Name: Country, dtype: int64"
      ]
     },
     "execution_count": 19,
     "metadata": {},
     "output_type": "execute_result"
    }
   ],
   "source": [
    "df2.Country.value_counts()"
   ]
  },
  {
   "cell_type": "markdown",
   "id": "6df6555d",
   "metadata": {},
   "source": [
    "Now as we have so many countries with very few counts, we will be grouping them into three categories as 'India', 'Outside India' and 'Not porvided'."
   ]
  },
  {
   "cell_type": "code",
   "execution_count": 20,
   "id": "6934e823",
   "metadata": {},
   "outputs": [],
   "source": [
    "def cntry(x):\n",
    "    category = \"\"\n",
    "    if x == \"India\":\n",
    "        cat = \"india\"\n",
    "    elif x == \"not provided\":\n",
    "        cat = \"not provided\"\n",
    "    elif x ==\"unknown\":\n",
    "        cat = \"not provided\"\n",
    "    else:\n",
    "        cat = \"outside india\"\n",
    "    \n",
    "    return cat\n",
    "\n",
    "df2['Country'] = df2.apply(lambda x: cntry(x['Country']), axis = 1)"
   ]
  },
  {
   "cell_type": "code",
   "execution_count": 21,
   "id": "45a340d9",
   "metadata": {},
   "outputs": [
    {
     "data": {
      "text/plain": [
       "india            6492\n",
       "not provided     2466\n",
       "outside india     282\n",
       "Name: Country, dtype: int64"
      ]
     },
     "execution_count": 21,
     "metadata": {},
     "output_type": "execute_result"
    }
   ],
   "source": [
    "df2.Country.value_counts()"
   ]
  },
  {
   "cell_type": "markdown",
   "id": "6b2a70bd",
   "metadata": {},
   "source": [
    "Now let's check the City column."
   ]
  },
  {
   "cell_type": "code",
   "execution_count": 22,
   "id": "a066e412",
   "metadata": {},
   "outputs": [
    {
     "data": {
      "text/plain": [
       "Mumbai                         34.87\n",
       "Unknown                        24.34\n",
       "Thane & Outskirts               8.14\n",
       "Other Cities                    7.42\n",
       "Other Cities of Maharashtra     4.95\n",
       "Other Metro Cities              4.11\n",
       "Tier II Cities                  0.80\n",
       "Name: City, dtype: float64"
      ]
     },
     "execution_count": 22,
     "metadata": {},
     "output_type": "execute_result"
    }
   ],
   "source": [
    "round((df2.City.value_counts()/df2.shape[0]) * 100, 2)"
   ]
  },
  {
   "cell_type": "markdown",
   "id": "868b2fff",
   "metadata": {},
   "source": [
    "Seem like City column consists of mostly Indian cities and no specific cities outside India, therefore it would be better to drop this column."
   ]
  },
  {
   "cell_type": "code",
   "execution_count": 23,
   "id": "dedbd92c",
   "metadata": {},
   "outputs": [],
   "source": [
    "# Dropping City' column.\n",
    "\n",
    "df2 = df2.drop('City', axis = 1)"
   ]
  },
  {
   "cell_type": "code",
   "execution_count": 24,
   "id": "bfa0e5e1",
   "metadata": {},
   "outputs": [],
   "source": [
    "# Replacing null values with 'Unknown' value in Specialization column.\n",
    "\n",
    "df2.Specialization = df2.Specialization.replace(np.nan,'Unknown')"
   ]
  },
  {
   "cell_type": "code",
   "execution_count": 25,
   "id": "57a3f6e1",
   "metadata": {},
   "outputs": [
    {
     "data": {
      "text/plain": [
       "Lead Origin                                       0.00\n",
       "Lead Source                                       0.39\n",
       "Do Not Email                                      0.00\n",
       "Do Not Call                                       0.00\n",
       "Converted                                         0.00\n",
       "TotalVisits                                       1.48\n",
       "Total Time Spent on Website                       0.00\n",
       "Page Views Per Visit                              1.48\n",
       "Country                                           0.00\n",
       "Specialization                                    0.00\n",
       "What is your current occupation                  29.11\n",
       "What matters most to you in choosing a course    29.32\n",
       "Search                                            0.00\n",
       "Newspaper Article                                 0.00\n",
       "X Education Forums                                0.00\n",
       "Newspaper                                         0.00\n",
       "Digital Advertisement                             0.00\n",
       "Through Recommendations                           0.00\n",
       "A free copy of Mastering The Interview            0.00\n",
       "dtype: float64"
      ]
     },
     "execution_count": 25,
     "metadata": {},
     "output_type": "execute_result"
    }
   ],
   "source": [
    "# Let's check null values again.\n",
    "round(df2.isnull().sum()/len(df2) * 100, 2)"
   ]
  },
  {
   "cell_type": "code",
   "execution_count": 26,
   "id": "beb6108d",
   "metadata": {},
   "outputs": [
    {
     "data": {
      "text/plain": [
       "Unemployed              5600\n",
       "Working Professional     706\n",
       "Student                  210\n",
       "Other                     16\n",
       "Housewife                 10\n",
       "Businessman                8\n",
       "Name: What is your current occupation, dtype: int64"
      ]
     },
     "execution_count": 26,
     "metadata": {},
     "output_type": "execute_result"
    }
   ],
   "source": [
    "# Checking value counts of 'What is your current occupation' column.\n",
    "df2['What is your current occupation'].value_counts()"
   ]
  },
  {
   "cell_type": "markdown",
   "id": "a2b40c76",
   "metadata": {},
   "source": [
    "The column 'What is your current occupation' have 29% null values. So let us replace them to 'Unknown'."
   ]
  },
  {
   "cell_type": "code",
   "execution_count": 27,
   "id": "85612f02",
   "metadata": {},
   "outputs": [],
   "source": [
    "df2['What is your current occupation'] = df2['What is your current occupation'].replace(np.nan, 'Unknown')"
   ]
  },
  {
   "cell_type": "code",
   "execution_count": 28,
   "id": "c10c49b9",
   "metadata": {},
   "outputs": [
    {
     "data": {
      "text/plain": [
       "Better Career Prospects      6528\n",
       "Flexibility & Convenience       2\n",
       "Other                           1\n",
       "Name: What matters most to you in choosing a course, dtype: int64"
      ]
     },
     "execution_count": 28,
     "metadata": {},
     "output_type": "execute_result"
    }
   ],
   "source": [
    "df2['What matters most to you in choosing a course'].value_counts()"
   ]
  },
  {
   "cell_type": "markdown",
   "id": "68a30309",
   "metadata": {},
   "source": [
    "The column 'What matters most to you in choosing a course' have almost every value as 'Better Career Prospect', therefore let's drop this column too."
   ]
  },
  {
   "cell_type": "code",
   "execution_count": 29,
   "id": "46e1bcd3",
   "metadata": {},
   "outputs": [],
   "source": [
    "df2['What matters most to you in choosing a course'] = df2['What matters most to you in choosing a course'].replace(np.nan, 'Unknown')"
   ]
  },
  {
   "cell_type": "code",
   "execution_count": 30,
   "id": "e4641dd2",
   "metadata": {},
   "outputs": [
    {
     "data": {
      "text/plain": [
       "count    9103.000000\n",
       "mean        3.445238\n",
       "std         4.854853\n",
       "min         0.000000\n",
       "25%         1.000000\n",
       "50%         3.000000\n",
       "75%         5.000000\n",
       "max       251.000000\n",
       "Name: TotalVisits, dtype: float64"
      ]
     },
     "execution_count": 30,
     "metadata": {},
     "output_type": "execute_result"
    }
   ],
   "source": [
    "df2.TotalVisits.describe()"
   ]
  },
  {
   "cell_type": "code",
   "execution_count": 31,
   "id": "afeb1de9",
   "metadata": {},
   "outputs": [],
   "source": [
    "df2.TotalVisits = df2.TotalVisits.replace(np.nan, df2.TotalVisits.median())"
   ]
  },
  {
   "cell_type": "code",
   "execution_count": 32,
   "id": "eb358d44",
   "metadata": {},
   "outputs": [
    {
     "data": {
      "text/plain": [
       "count    9103.000000\n",
       "mean        2.362820\n",
       "std         2.161418\n",
       "min         0.000000\n",
       "25%         1.000000\n",
       "50%         2.000000\n",
       "75%         3.000000\n",
       "max        55.000000\n",
       "Name: Page Views Per Visit, dtype: float64"
      ]
     },
     "execution_count": 32,
     "metadata": {},
     "output_type": "execute_result"
    }
   ],
   "source": [
    "df2['Page Views Per Visit'].describe()"
   ]
  },
  {
   "cell_type": "code",
   "execution_count": 33,
   "id": "2feb8cee",
   "metadata": {},
   "outputs": [],
   "source": [
    "df2['Page Views Per Visit'] = df2['Page Views Per Visit'].replace(np.nan, df2['Page Views Per Visit'].median())"
   ]
  },
  {
   "cell_type": "code",
   "execution_count": 34,
   "id": "97a29e76",
   "metadata": {},
   "outputs": [
    {
     "data": {
      "text/plain": [
       "Google               2868\n",
       "Direct Traffic       2543\n",
       "Olark Chat           1755\n",
       "Organic Search       1154\n",
       "Reference             534\n",
       "Welingak Website      142\n",
       "Referral Sites        125\n",
       "Facebook               55\n",
       "bing                    6\n",
       "google                  5\n",
       "Click2call              4\n",
       "Press_Release           2\n",
       "Live Chat               2\n",
       "Social Media            2\n",
       "WeLearn                 1\n",
       "youtubechannel          1\n",
       "blog                    1\n",
       "welearnblog_Home        1\n",
       "NC_EDM                  1\n",
       "Pay per Click Ads       1\n",
       "testone                 1\n",
       "Name: Lead Source, dtype: int64"
      ]
     },
     "execution_count": 34,
     "metadata": {},
     "output_type": "execute_result"
    }
   ],
   "source": [
    "df2['Lead Source'].value_counts()"
   ]
  },
  {
   "cell_type": "code",
   "execution_count": 35,
   "id": "192985c3",
   "metadata": {},
   "outputs": [],
   "source": [
    "df2['Lead Source'] = df2['Lead Source'].replace(['google', np.nan], 'Google')"
   ]
  },
  {
   "cell_type": "markdown",
   "id": "7a3b4f58",
   "metadata": {},
   "source": [
    "At last, once again checking the null percentage in dataset."
   ]
  },
  {
   "cell_type": "code",
   "execution_count": 36,
   "id": "85e7ac80",
   "metadata": {},
   "outputs": [
    {
     "data": {
      "text/plain": [
       "Lead Origin                                      0.0\n",
       "Lead Source                                      0.0\n",
       "Do Not Email                                     0.0\n",
       "Do Not Call                                      0.0\n",
       "Converted                                        0.0\n",
       "TotalVisits                                      0.0\n",
       "Total Time Spent on Website                      0.0\n",
       "Page Views Per Visit                             0.0\n",
       "Country                                          0.0\n",
       "Specialization                                   0.0\n",
       "What is your current occupation                  0.0\n",
       "What matters most to you in choosing a course    0.0\n",
       "Search                                           0.0\n",
       "Newspaper Article                                0.0\n",
       "X Education Forums                               0.0\n",
       "Newspaper                                        0.0\n",
       "Digital Advertisement                            0.0\n",
       "Through Recommendations                          0.0\n",
       "A free copy of Mastering The Interview           0.0\n",
       "dtype: float64"
      ]
     },
     "execution_count": 36,
     "metadata": {},
     "output_type": "execute_result"
    }
   ],
   "source": [
    "# Let's check null values again.\n",
    "\n",
    "round(df2.isnull().sum()/len(df2) * 100, 2)"
   ]
  },
  {
   "cell_type": "markdown",
   "id": "cb93db05",
   "metadata": {},
   "source": [
    "### Outlier analysis"
   ]
  },
  {
   "cell_type": "code",
   "execution_count": 37,
   "id": "3861d27b",
   "metadata": {},
   "outputs": [
    {
     "data": {
      "image/png": "[encoded data removed]",
      "text/plain": [
       "<Figure size 1080x576 with 3 Axes>"
      ]
     },
     "metadata": {
      "needs_background": "light"
     },
     "output_type": "display_data"
    }
   ],
   "source": [
    "# Checking outliers in numeric columns\n",
    "\n",
    "plt.figure(figsize=(15,8))\n",
    "\n",
    "plt.subplot(2,3,1)\n",
    "sns.boxplot(df2['TotalVisits'])\n",
    "\n",
    "plt.subplot(2,3,2)\n",
    "sns.boxplot(df2['Total Time Spent on Website'])\n",
    "\n",
    "plt.subplot(2,3,3)\n",
    "sns.boxplot(df2['Page Views Per Visit'])\n",
    "\n",
    "plt.show()"
   ]
  },
  {
   "cell_type": "markdown",
   "id": "e7f67469",
   "metadata": {},
   "source": [
    "'TotalVisits' and 'Page Views Per Visit' are having clear outlier.<br>\n",
    "We are going to remove the outliers beyond 99th percentile."
   ]
  },
  {
   "cell_type": "code",
   "execution_count": 38,
   "id": "bc49bca2",
   "metadata": {},
   "outputs": [],
   "source": [
    "# Let's remove the outliers beyond the 99th percentile.\n",
    "\n",
    "outlier_totalvisits = df2.TotalVisits.quantile(0.99)\n",
    "\n",
    "df2 = df2[df2.TotalVisits < outlier_totalvisits]"
   ]
  },
  {
   "cell_type": "code",
   "execution_count": 39,
   "id": "6f2ddd1e",
   "metadata": {},
   "outputs": [],
   "source": [
    "outlier_pageViews = df2['Page Views Per Visit'].quantile(0.99)\n",
    "\n",
    "df2 = df2[df2.TotalVisits < outlier_pageViews]"
   ]
  },
  {
   "cell_type": "markdown",
   "id": "6e8cfb62",
   "metadata": {},
   "source": [
    "## EDA"
   ]
  },
  {
   "cell_type": "code",
   "execution_count": 40,
   "id": "3955ec7b",
   "metadata": {},
   "outputs": [
    {
     "data": {
      "image/png": "[encoded data removed]",
      "text/plain": [
       "<Figure size 1080x360 with 2 Axes>"
      ]
     },
     "metadata": {
      "needs_background": "light"
     },
     "output_type": "display_data"
    }
   ],
   "source": [
    "plt.figure(figsize = (15,5))\n",
    "\n",
    "plt.subplot(1,2,1)\n",
    "sns.countplot(df2['Lead Origin'], hue=df2.Converted).tick_params(axis='x', rotation = 90)\n",
    "plt.title('Lead Origin')\n",
    "\n",
    "plt.subplot(1,2,2)\n",
    "sns.countplot(df2['Lead Source'], hue=df2.Converted).tick_params(axis='x', rotation = 90)\n",
    "plt.title('Lead Source')\n",
    "\n",
    "plt.show()"
   ]
  },
  {
   "cell_type": "code",
   "execution_count": 41,
   "id": "0de1b294",
   "metadata": {},
   "outputs": [
    {
     "data": {
      "image/png": "[encoded data removed]",
      "text/plain": [
       "<Figure size 1080x360 with 2 Axes>"
      ]
     },
     "metadata": {
      "needs_background": "light"
     },
     "output_type": "display_data"
    }
   ],
   "source": [
    "plt.figure(figsize = (15,5))\n",
    "\n",
    "plt.subplot(1,2,1)\n",
    "sns.countplot(df2['Do Not Email'], hue=df2.Converted)\n",
    "plt.title('Do Not Email')\n",
    "\n",
    "plt.subplot(1,2,2)\n",
    "sns.countplot(df2['Do Not Call'], hue=df2.Converted)\n",
    "plt.title('Do Not Call')\n",
    "\n",
    "plt.show()"
   ]
  },
  {
   "cell_type": "code",
   "execution_count": 42,
   "id": "5ba3da13",
   "metadata": {},
   "outputs": [
    {
     "data": {
      "image/png": "[encoded data removed]",
      "text/plain": [
       "<Figure size 1080x360 with 2 Axes>"
      ]
     },
     "metadata": {
      "needs_background": "light"
     },
     "output_type": "display_data"
    }
   ],
   "source": [
    "plt.figure(figsize = (15,5))\n",
    "\n",
    "plt.subplot(1,2,1)\n",
    "sns.countplot(df2['A free copy of Mastering The Interview'], hue=df2.Converted)\n",
    "plt.title('A free copy of Mastering The Interview')\n",
    "\n",
    "plt.subplot(1,2,2)\n",
    "sns.countplot(df2['What is your current occupation'], hue=df2.Converted).tick_params(axis='x', rotation = 90)\n",
    "plt.title('Occupation')\n",
    "\n",
    "plt.show()"
   ]
  },
  {
   "cell_type": "code",
   "execution_count": 43,
   "id": "e7595811",
   "metadata": {},
   "outputs": [
    {
     "data": {
      "image/png": "[encoded data removed]",
      "text/plain": [
       "<Figure size 1080x360 with 2 Axes>"
      ]
     },
     "metadata": {
      "needs_background": "light"
     },
     "output_type": "display_data"
    }
   ],
   "source": [
    "plt.figure(figsize = (15,5))\n",
    "\n",
    "plt.subplot(1,2,1)\n",
    "sns.countplot(df2['Newspaper'], hue=df2.Converted)\n",
    "plt.title('Newspaper')\n",
    "\n",
    "plt.subplot(1,2,2)\n",
    "sns.countplot(df2['Newspaper Article'], hue=df2.Converted)\n",
    "plt.title('Newspaper Article')\n",
    "\n",
    "plt.show()"
   ]
  },
  {
   "cell_type": "markdown",
   "id": "9203369f",
   "metadata": {},
   "source": [
    "Though I am not very sure to drop 'Newspaper'  and 'Newspaper Article' columns, but since they consist of only one value 'No', they would not help in any prediction, so let's drop them."
   ]
  },
  {
   "cell_type": "code",
   "execution_count": 44,
   "id": "b61b1f0a",
   "metadata": {},
   "outputs": [],
   "source": [
    "df2 = df2.drop(['Newspaper', 'Newspaper Article'], axis = 1)"
   ]
  },
  {
   "cell_type": "code",
   "execution_count": 45,
   "id": "ed3e5533",
   "metadata": {},
   "outputs": [
    {
     "data": {
      "image/png": "[encoded data removed]",
      "text/plain": [
       "<Figure size 1080x360 with 2 Axes>"
      ]
     },
     "metadata": {
      "needs_background": "light"
     },
     "output_type": "display_data"
    }
   ],
   "source": [
    "plt.figure(figsize = (15,5))\n",
    "\n",
    "plt.subplot(1,2,1)\n",
    "sns.countplot(df2['Search'], hue=df2.Converted)\n",
    "plt.title('Search')\n",
    "\n",
    "plt.subplot(1,2,2)\n",
    "sns.countplot(df2['Digital Advertisement'], hue=df2.Converted)\n",
    "plt.title('Digital Advertisement')\n",
    "\n",
    "plt.show()"
   ]
  },
  {
   "cell_type": "code",
   "execution_count": 46,
   "id": "964d0ea3",
   "metadata": {},
   "outputs": [
    {
     "data": {
      "image/png": "[encoded data removed]",
      "text/plain": [
       "<Figure size 1080x360 with 2 Axes>"
      ]
     },
     "metadata": {
      "needs_background": "light"
     },
     "output_type": "display_data"
    }
   ],
   "source": [
    "plt.figure(figsize = (15,5))\n",
    "\n",
    "plt.subplot(1,2,1)\n",
    "sns.countplot(df2['X Education Forums'], hue=df2.Converted)\n",
    "plt.title('X Education Forums')\n",
    "\n",
    "plt.subplot(1,2,2)\n",
    "sns.countplot(df2['Through Recommendations'], hue=df2.Converted)\n",
    "plt.title('Through Recommendations')\n",
    "\n",
    "plt.show()"
   ]
  },
  {
   "cell_type": "code",
   "execution_count": 47,
   "id": "3b58da1a",
   "metadata": {},
   "outputs": [],
   "source": [
    "# Dropping 'X Education Forum' column also.\n",
    "\n",
    "df2 = df2.drop(['X Education Forums'], axis = 1)"
   ]
  },
  {
   "cell_type": "markdown",
   "id": "0828744e",
   "metadata": {},
   "source": [
    "## Few points observed from the above visualisations:\n",
    "\n",
    "1. Lead Origin: API and Landing Page Submission have more conversions. Lead Add From have good conversion rate.\n",
    "2. Lead Source: Google, Direct Traffic, Olark Chat and Organic Search have shown higher conversions, but Reference and Welingak Website have better and higher conversion rate than others.\n",
    "3. Do Not Email: Lead conversion for those opted for email service is higher.\n",
    "4. Do Not Call: Lead conversion for those opted for call service is higher.\n",
    "5. What is your current occupation: Unemployeed and Working Professionals are seen to be converted much more than others.\n",
    "6. A free copy of mastering the interview: Those who didn't opt for this copy have more conversion, but those who opted also have good conversion. Can't be ignored.\n",
    "7. And for 'Search', 'Digital Advertisment' and 'Through Recommendations' have few values of 'Yes's so most conversions are seen for 'No' value only."
   ]
  },
  {
   "cell_type": "markdown",
   "id": "43243480",
   "metadata": {},
   "source": [
    "Let's check the correlation between numeric variables."
   ]
  },
  {
   "cell_type": "code",
   "execution_count": 48,
   "id": "1e567a39",
   "metadata": {},
   "outputs": [
    {
     "data": {
      "image/png": "[encoded data removed]",
      "text/plain": [
       "<Figure size 720x360 with 2 Axes>"
      ]
     },
     "metadata": {
      "needs_background": "light"
     },
     "output_type": "display_data"
    }
   ],
   "source": [
    "plt.figure(figsize = (10, 5))\n",
    "sns.heatmap(df2.corr(), annot = True)\n",
    "plt.show()"
   ]
  },
  {
   "cell_type": "markdown",
   "id": "0a9b3ec2",
   "metadata": {},
   "source": [
    "## Dummy Variables handling"
   ]
  },
  {
   "cell_type": "code",
   "execution_count": 49,
   "id": "fe181276",
   "metadata": {},
   "outputs": [],
   "source": [
    "# First we will map the 'yes' and 'no' values in columns to 0 and 1.\n",
    "\n",
    "var_list = ['Do Not Email', 'Do Not Call', 'Search', 'A free copy of Mastering The Interview', 'Through Recommendations', 'Digital Advertisement']\n",
    "\n",
    "def mapper(x):\n",
    "    return x.map({'Yes': 1, 'No': 0})\n",
    "\n",
    "df2[var_list] = df2[var_list].apply(mapper)"
   ]
  },
  {
   "cell_type": "code",
   "execution_count": 50,
   "id": "240a0ec9",
   "metadata": {},
   "outputs": [],
   "source": [
    "# Let's us create dummy variables for categorical variables using get_dummies from pandas.\n",
    "\n",
    "dummy = pd.get_dummies(df2['Lead Origin'], prefix = 'Origin', drop_first = True)\n",
    "df2 = pd.concat([df2, dummy], axis = 1)\n",
    "\n",
    "dummy = pd.get_dummies(df2['What is your current occupation'], prefix = 'Occupation', drop_first = True)\n",
    "df2 = pd.concat([df2, dummy], axis = 1)\n",
    "\n",
    "dummy = pd.get_dummies(df2['Specialization'], prefix = 'Specialization', drop_first = True)\n",
    "df2 = pd.concat([df2, dummy], axis = 1)\n",
    "\n",
    "dummy = pd.get_dummies(df2['Lead Source'], prefix = 'Source', drop_first = True)\n",
    "df2 = pd.concat([df2, dummy], axis = 1)\n",
    "\n",
    "dummy = pd.get_dummies(df2['What matters most to you in choosing a course'], prefix = 'Matters')\n",
    "dummy = dummy.drop(['Matters_Other'], axis = 1)\n",
    "df2 = pd.concat([df2, dummy], axis = 1)\n",
    "\n",
    "dummy = pd.get_dummies(df2['Country'], prefix = 'Country')\n",
    "dummy = dummy.drop(['Country_not provided'], axis = 1)\n",
    "df2 = pd.concat([df2, dummy], axis = 1)"
   ]
  },
  {
   "cell_type": "code",
   "execution_count": 51,
   "id": "98fb5fb3",
   "metadata": {},
   "outputs": [],
   "source": [
    "# Dropping columns that are done with dummy creation.\n",
    "\n",
    "df2 = df2.drop(['Lead Origin', 'What is your current occupation', 'Specialization', 'Lead Source', 'What matters most to you in choosing a course', 'Country'], axis = 1)"
   ]
  },
  {
   "cell_type": "code",
   "execution_count": 52,
   "id": "07d2cc07",
   "metadata": {},
   "outputs": [
    {
     "data": {
      "text/html": [
       "<div>\n",
       "<style scoped>\n",
       "    .dataframe tbody tr th:only-of-type {\n",
       "        vertical-align: middle;\n",
       "    }\n",
       "\n",
       "    .dataframe tbody tr th {\n",
       "        vertical-align: top;\n",
       "    }\n",
       "\n",
       "    .dataframe thead th {\n",
       "        text-align: right;\n",
       "    }\n",
       "</style>\n",
       "<table border=\"1\" class=\"dataframe\">\n",
       "  <thead>\n",
       "    <tr style=\"text-align: right;\">\n",
       "      <th></th>\n",
       "      <th>Do Not Email</th>\n",
       "      <th>Do Not Call</th>\n",
       "      <th>Converted</th>\n",
       "      <th>TotalVisits</th>\n",
       "      <th>Total Time Spent on Website</th>\n",
       "      <th>Page Views Per Visit</th>\n",
       "      <th>Search</th>\n",
       "      <th>Digital Advertisement</th>\n",
       "      <th>Through Recommendations</th>\n",
       "      <th>A free copy of Mastering The Interview</th>\n",
       "      <th>...</th>\n",
       "      <th>Source_bing</th>\n",
       "      <th>Source_blog</th>\n",
       "      <th>Source_testone</th>\n",
       "      <th>Source_welearnblog_Home</th>\n",
       "      <th>Source_youtubechannel</th>\n",
       "      <th>Matters_Better Career Prospects</th>\n",
       "      <th>Matters_Flexibility &amp; Convenience</th>\n",
       "      <th>Matters_Unknown</th>\n",
       "      <th>Country_india</th>\n",
       "      <th>Country_outside india</th>\n",
       "    </tr>\n",
       "  </thead>\n",
       "  <tbody>\n",
       "    <tr>\n",
       "      <th>0</th>\n",
       "      <td>0</td>\n",
       "      <td>0</td>\n",
       "      <td>0</td>\n",
       "      <td>0.0</td>\n",
       "      <td>0</td>\n",
       "      <td>0.0</td>\n",
       "      <td>0</td>\n",
       "      <td>0</td>\n",
       "      <td>0</td>\n",
       "      <td>0</td>\n",
       "      <td>...</td>\n",
       "      <td>0</td>\n",
       "      <td>0</td>\n",
       "      <td>0</td>\n",
       "      <td>0</td>\n",
       "      <td>0</td>\n",
       "      <td>1</td>\n",
       "      <td>0</td>\n",
       "      <td>0</td>\n",
       "      <td>0</td>\n",
       "      <td>0</td>\n",
       "    </tr>\n",
       "    <tr>\n",
       "      <th>1</th>\n",
       "      <td>0</td>\n",
       "      <td>0</td>\n",
       "      <td>0</td>\n",
       "      <td>5.0</td>\n",
       "      <td>674</td>\n",
       "      <td>2.5</td>\n",
       "      <td>0</td>\n",
       "      <td>0</td>\n",
       "      <td>0</td>\n",
       "      <td>0</td>\n",
       "      <td>...</td>\n",
       "      <td>0</td>\n",
       "      <td>0</td>\n",
       "      <td>0</td>\n",
       "      <td>0</td>\n",
       "      <td>0</td>\n",
       "      <td>1</td>\n",
       "      <td>0</td>\n",
       "      <td>0</td>\n",
       "      <td>1</td>\n",
       "      <td>0</td>\n",
       "    </tr>\n",
       "    <tr>\n",
       "      <th>2</th>\n",
       "      <td>0</td>\n",
       "      <td>0</td>\n",
       "      <td>1</td>\n",
       "      <td>2.0</td>\n",
       "      <td>1532</td>\n",
       "      <td>2.0</td>\n",
       "      <td>0</td>\n",
       "      <td>0</td>\n",
       "      <td>0</td>\n",
       "      <td>1</td>\n",
       "      <td>...</td>\n",
       "      <td>0</td>\n",
       "      <td>0</td>\n",
       "      <td>0</td>\n",
       "      <td>0</td>\n",
       "      <td>0</td>\n",
       "      <td>1</td>\n",
       "      <td>0</td>\n",
       "      <td>0</td>\n",
       "      <td>1</td>\n",
       "      <td>0</td>\n",
       "    </tr>\n",
       "    <tr>\n",
       "      <th>3</th>\n",
       "      <td>0</td>\n",
       "      <td>0</td>\n",
       "      <td>0</td>\n",
       "      <td>1.0</td>\n",
       "      <td>305</td>\n",
       "      <td>1.0</td>\n",
       "      <td>0</td>\n",
       "      <td>0</td>\n",
       "      <td>0</td>\n",
       "      <td>0</td>\n",
       "      <td>...</td>\n",
       "      <td>0</td>\n",
       "      <td>0</td>\n",
       "      <td>0</td>\n",
       "      <td>0</td>\n",
       "      <td>0</td>\n",
       "      <td>1</td>\n",
       "      <td>0</td>\n",
       "      <td>0</td>\n",
       "      <td>1</td>\n",
       "      <td>0</td>\n",
       "    </tr>\n",
       "    <tr>\n",
       "      <th>4</th>\n",
       "      <td>0</td>\n",
       "      <td>0</td>\n",
       "      <td>1</td>\n",
       "      <td>2.0</td>\n",
       "      <td>1428</td>\n",
       "      <td>1.0</td>\n",
       "      <td>0</td>\n",
       "      <td>0</td>\n",
       "      <td>0</td>\n",
       "      <td>0</td>\n",
       "      <td>...</td>\n",
       "      <td>0</td>\n",
       "      <td>0</td>\n",
       "      <td>0</td>\n",
       "      <td>0</td>\n",
       "      <td>0</td>\n",
       "      <td>1</td>\n",
       "      <td>0</td>\n",
       "      <td>0</td>\n",
       "      <td>1</td>\n",
       "      <td>0</td>\n",
       "    </tr>\n",
       "  </tbody>\n",
       "</table>\n",
       "<p>5 rows × 62 columns</p>\n",
       "</div>"
      ],
      "text/plain": [
       "   Do Not Email  Do Not Call  Converted  TotalVisits  \\\n",
       "0             0            0          0          0.0   \n",
       "1             0            0          0          5.0   \n",
       "2             0            0          1          2.0   \n",
       "3             0            0          0          1.0   \n",
       "4             0            0          1          2.0   \n",
       "\n",
       "   Total Time Spent on Website  Page Views Per Visit  Search  \\\n",
       "0                            0                   0.0       0   \n",
       "1                          674                   2.5       0   \n",
       "2                         1532                   2.0       0   \n",
       "3                          305                   1.0       0   \n",
       "4                         1428                   1.0       0   \n",
       "\n",
       "   Digital Advertisement  Through Recommendations  \\\n",
       "0                      0                        0   \n",
       "1                      0                        0   \n",
       "2                      0                        0   \n",
       "3                      0                        0   \n",
       "4                      0                        0   \n",
       "\n",
       "   A free copy of Mastering The Interview  ...  Source_bing  Source_blog  \\\n",
       "0                                       0  ...            0            0   \n",
       "1                                       0  ...            0            0   \n",
       "2                                       1  ...            0            0   \n",
       "3                                       0  ...            0            0   \n",
       "4                                       0  ...            0            0   \n",
       "\n",
       "   Source_testone  Source_welearnblog_Home  Source_youtubechannel  \\\n",
       "0               0                        0                      0   \n",
       "1               0                        0                      0   \n",
       "2               0                        0                      0   \n",
       "3               0                        0                      0   \n",
       "4               0                        0                      0   \n",
       "\n",
       "   Matters_Better Career Prospects  Matters_Flexibility & Convenience  \\\n",
       "0                                1                                  0   \n",
       "1                                1                                  0   \n",
       "2                                1                                  0   \n",
       "3                                1                                  0   \n",
       "4                                1                                  0   \n",
       "\n",
       "   Matters_Unknown  Country_india  Country_outside india  \n",
       "0                0              0                      0  \n",
       "1                0              1                      0  \n",
       "2                0              1                      0  \n",
       "3                0              1                      0  \n",
       "4                0              1                      0  \n",
       "\n",
       "[5 rows x 62 columns]"
      ]
     },
     "execution_count": 52,
     "metadata": {},
     "output_type": "execute_result"
    }
   ],
   "source": [
    "df2.head()"
   ]
  },
  {
   "cell_type": "markdown",
   "id": "3b6a5614",
   "metadata": {},
   "source": [
    "## Test-Train Split"
   ]
  },
  {
   "cell_type": "code",
   "execution_count": 53,
   "id": "3746e77a",
   "metadata": {},
   "outputs": [],
   "source": [
    "# Importing the required train_test_split library\n",
    "\n",
    "from sklearn.model_selection import train_test_split"
   ]
  },
  {
   "cell_type": "code",
   "execution_count": 54,
   "id": "c2cfc243",
   "metadata": {},
   "outputs": [],
   "source": [
    "# Extracting features and target variables in X and y respectively.\n",
    "\n",
    "y = df2['Converted']\n",
    "X = df2.drop(['Converted'], axis = 1)"
   ]
  },
  {
   "cell_type": "code",
   "execution_count": 55,
   "id": "c32f3227",
   "metadata": {},
   "outputs": [],
   "source": [
    "# Splitting X and y into train and test sets.\n",
    "\n",
    "X_train, X_test, y_train, y_test = train_test_split(X, y, train_size = 0.7, test_size = 0.3, random_state = 100)"
   ]
  },
  {
   "cell_type": "markdown",
   "id": "34d0f742",
   "metadata": {},
   "source": [
    "## Scaling the data with MinMax scaler\n",
    "\n",
    "Now, we can see that most of the data values in the data set is in the range of 0 to 1,<br>\n",
    "but few columns are out of that range and that won't be good for our model.<br>\n",
    "Therefore, we will be scaling those column values with MinMax Scaler,<br>\n",
    "which will scale those values in the required range."
   ]
  },
  {
   "cell_type": "code",
   "execution_count": 56,
   "id": "c942cf52",
   "metadata": {},
   "outputs": [],
   "source": [
    "from sklearn.preprocessing import MinMaxScaler"
   ]
  },
  {
   "cell_type": "code",
   "execution_count": 57,
   "id": "18ec640b",
   "metadata": {},
   "outputs": [
    {
     "data": {
      "text/html": [
       "<div>\n",
       "<style scoped>\n",
       "    .dataframe tbody tr th:only-of-type {\n",
       "        vertical-align: middle;\n",
       "    }\n",
       "\n",
       "    .dataframe tbody tr th {\n",
       "        vertical-align: top;\n",
       "    }\n",
       "\n",
       "    .dataframe thead th {\n",
       "        text-align: right;\n",
       "    }\n",
       "</style>\n",
       "<table border=\"1\" class=\"dataframe\">\n",
       "  <thead>\n",
       "    <tr style=\"text-align: right;\">\n",
       "      <th></th>\n",
       "      <th>TotalVisits</th>\n",
       "      <th>Page Views Per Visit</th>\n",
       "      <th>Total Time Spent on Website</th>\n",
       "    </tr>\n",
       "  </thead>\n",
       "  <tbody>\n",
       "    <tr>\n",
       "      <th>4678</th>\n",
       "      <td>0.375</td>\n",
       "      <td>0.3750</td>\n",
       "      <td>0.055898</td>\n",
       "    </tr>\n",
       "    <tr>\n",
       "      <th>532</th>\n",
       "      <td>0.375</td>\n",
       "      <td>0.3750</td>\n",
       "      <td>0.102113</td>\n",
       "    </tr>\n",
       "    <tr>\n",
       "      <th>7280</th>\n",
       "      <td>0.375</td>\n",
       "      <td>0.1875</td>\n",
       "      <td>0.085827</td>\n",
       "    </tr>\n",
       "    <tr>\n",
       "      <th>4998</th>\n",
       "      <td>0.000</td>\n",
       "      <td>0.0000</td>\n",
       "      <td>0.000000</td>\n",
       "    </tr>\n",
       "    <tr>\n",
       "      <th>6834</th>\n",
       "      <td>0.250</td>\n",
       "      <td>0.2500</td>\n",
       "      <td>0.069102</td>\n",
       "    </tr>\n",
       "  </tbody>\n",
       "</table>\n",
       "</div>"
      ],
      "text/plain": [
       "      TotalVisits  Page Views Per Visit  Total Time Spent on Website\n",
       "4678        0.375                0.3750                     0.055898\n",
       "532         0.375                0.3750                     0.102113\n",
       "7280        0.375                0.1875                     0.085827\n",
       "4998        0.000                0.0000                     0.000000\n",
       "6834        0.250                0.2500                     0.069102"
      ]
     },
     "execution_count": 57,
     "metadata": {},
     "output_type": "execute_result"
    }
   ],
   "source": [
    "scaler = MinMaxScaler()\n",
    "\n",
    "X_train[['TotalVisits', 'Page Views Per Visit', 'Total Time Spent on Website']] = scaler.fit_transform(X_train[['TotalVisits', 'Page Views Per Visit', 'Total Time Spent on Website']])\n",
    "X_train[['TotalVisits', 'Page Views Per Visit', 'Total Time Spent on Website']].head()"
   ]
  },
  {
   "cell_type": "markdown",
   "id": "5aa073e0",
   "metadata": {},
   "source": [
    "## Model Building"
   ]
  },
  {
   "cell_type": "markdown",
   "id": "d556d20d",
   "metadata": {},
   "source": [
    "We are going to use statsmodel in order to assess our model based on different metrics like P-value.<br>\n",
    "We will also be using variance_inflation_factor to assess the correlation between features and decide further."
   ]
  },
  {
   "cell_type": "code",
   "execution_count": 58,
   "id": "1ac42c75",
   "metadata": {},
   "outputs": [],
   "source": [
    "import statsmodels.api as sm\n",
    "from sklearn.linear_model import LogisticRegression\n",
    "from sklearn.feature_selection import RFE\n",
    "from statsmodels.stats.outliers_influence import variance_inflation_factor"
   ]
  },
  {
   "cell_type": "code",
   "execution_count": 59,
   "id": "9a5fb2bd",
   "metadata": {},
   "outputs": [],
   "source": [
    "# Initializing LogisticRegression() instance\n",
    "logreg = LogisticRegression()\n",
    "\n",
    "#  Using RFE to determine good features/variables for the model.\n",
    "rfe = RFE(logreg, 15)\n",
    "rfe = rfe.fit(X_train, y_train)"
   ]
  },
  {
   "cell_type": "code",
   "execution_count": 60,
   "id": "3ccc7444",
   "metadata": {},
   "outputs": [
    {
     "data": {
      "text/plain": [
       "[('Do Not Email', True, 1),\n",
       " ('Do Not Call', False, 28),\n",
       " ('TotalVisits', False, 4),\n",
       " ('Total Time Spent on Website', True, 1),\n",
       " ('Page Views Per Visit', False, 13),\n",
       " ('Search', False, 8),\n",
       " ('Digital Advertisement', False, 29),\n",
       " ('Through Recommendations', False, 19),\n",
       " ('A free copy of Mastering The Interview', False, 35),\n",
       " ('Origin_Landing Page Submission', True, 1),\n",
       " ('Origin_Lead Add Form', True, 1),\n",
       " ('Origin_Lead Import', True, 1),\n",
       " ('Origin_Quick Add Form', False, 41),\n",
       " ('Occupation_Housewife', True, 1),\n",
       " ('Occupation_Other', True, 1),\n",
       " ('Occupation_Student', False, 2),\n",
       " ('Occupation_Unemployed', False, 3),\n",
       " ('Occupation_Unknown', False, 11),\n",
       " ('Occupation_Working Professional', True, 1),\n",
       " ('Specialization_Business Administration', False, 38),\n",
       " ('Specialization_E-Business', False, 27),\n",
       " ('Specialization_E-COMMERCE', False, 42),\n",
       " ('Specialization_Finance Management', False, 33),\n",
       " ('Specialization_Healthcare Management', False, 44),\n",
       " ('Specialization_Hospitality Management', False, 7),\n",
       " ('Specialization_Human Resource Management', False, 23),\n",
       " ('Specialization_IT Projects Management', False, 45),\n",
       " ('Specialization_International Business', False, 18),\n",
       " ('Specialization_Marketing Management', False, 40),\n",
       " ('Specialization_Media and Advertising', False, 21),\n",
       " ('Specialization_Operations Management', False, 32),\n",
       " ('Specialization_Retail Management', False, 16),\n",
       " ('Specialization_Rural and Agribusiness', False, 24),\n",
       " ('Specialization_Services Excellence', False, 30),\n",
       " ('Specialization_Supply Chain Management', False, 37),\n",
       " ('Specialization_Travel and Tourism', False, 31),\n",
       " ('Specialization_Unknown', True, 1),\n",
       " ('Source_Direct Traffic', False, 14),\n",
       " ('Source_Facebook', False, 9),\n",
       " ('Source_Google', False, 43),\n",
       " ('Source_Live Chat', False, 12),\n",
       " ('Source_NC_EDM', True, 1),\n",
       " ('Source_Olark Chat', False, 26),\n",
       " ('Source_Organic Search', False, 34),\n",
       " ('Source_Pay per Click Ads', False, 20),\n",
       " ('Source_Press_Release', False, 25),\n",
       " ('Source_Reference', False, 39),\n",
       " ('Source_Referral Sites', False, 5),\n",
       " ('Source_Social Media', False, 36),\n",
       " ('Source_WeLearn', False, 15),\n",
       " ('Source_Welingak Website', True, 1),\n",
       " ('Source_bing', False, 10),\n",
       " ('Source_blog', False, 22),\n",
       " ('Source_testone', False, 17),\n",
       " ('Source_welearnblog_Home', False, 47),\n",
       " ('Source_youtubechannel', False, 46),\n",
       " ('Matters_Better Career Prospects', True, 1),\n",
       " ('Matters_Flexibility & Convenience', False, 6),\n",
       " ('Matters_Unknown', True, 1),\n",
       " ('Country_india', True, 1),\n",
       " ('Country_outside india', True, 1)]"
      ]
     },
     "execution_count": 60,
     "metadata": {},
     "output_type": "execute_result"
    }
   ],
   "source": [
    "# Extracting Column name, wether it is good or not, and their ranking from RFE.\n",
    "\n",
    "list(zip(X_train.columns, rfe.support_, rfe.ranking_))"
   ]
  },
  {
   "cell_type": "code",
   "execution_count": 61,
   "id": "d078c8b2",
   "metadata": {},
   "outputs": [
    {
     "data": {
      "text/plain": [
       "Index(['Do Not Email', 'Total Time Spent on Website',\n",
       "       'Origin_Landing Page Submission', 'Origin_Lead Add Form',\n",
       "       'Origin_Lead Import', 'Occupation_Housewife', 'Occupation_Other',\n",
       "       'Occupation_Working Professional', 'Specialization_Unknown',\n",
       "       'Source_NC_EDM', 'Source_Welingak Website',\n",
       "       'Matters_Better Career Prospects', 'Matters_Unknown', 'Country_india',\n",
       "       'Country_outside india'],\n",
       "      dtype='object')"
      ]
     },
     "execution_count": 61,
     "metadata": {},
     "output_type": "execute_result"
    }
   ],
   "source": [
    "# Extracting the RFE selected columns to 'cols'.\n",
    "\n",
    "cols = X_train.columns[rfe.support_]\n",
    "cols"
   ]
  },
  {
   "cell_type": "code",
   "execution_count": 62,
   "id": "6ee852bf",
   "metadata": {},
   "outputs": [
    {
     "data": {
      "text/html": [
       "<table class=\"simpletable\">\n",
       "<caption>Generalized Linear Model Regression Results</caption>\n",
       "<tr>\n",
       "  <th>Dep. Variable:</th>       <td>Converted</td>    <th>  No. Observations:  </th>  <td>  6026</td> \n",
       "</tr>\n",
       "<tr>\n",
       "  <th>Model:</th>                  <td>GLM</td>       <th>  Df Residuals:      </th>  <td>  6010</td> \n",
       "</tr>\n",
       "<tr>\n",
       "  <th>Model Family:</th>        <td>Binomial</td>     <th>  Df Model:          </th>  <td>    15</td> \n",
       "</tr>\n",
       "<tr>\n",
       "  <th>Link Function:</th>         <td>logit</td>      <th>  Scale:             </th> <td>  1.0000</td>\n",
       "</tr>\n",
       "<tr>\n",
       "  <th>Method:</th>                <td>IRLS</td>       <th>  Log-Likelihood:    </th> <td> -2681.2</td>\n",
       "</tr>\n",
       "<tr>\n",
       "  <th>Date:</th>            <td>Mon, 14 Jun 2021</td> <th>  Deviance:          </th> <td>  5362.4</td>\n",
       "</tr>\n",
       "<tr>\n",
       "  <th>Time:</th>                <td>21:18:51</td>     <th>  Pearson chi2:      </th> <td>6.24e+03</td>\n",
       "</tr>\n",
       "<tr>\n",
       "  <th>No. Iterations:</th>         <td>21</td>        <th>                     </th>     <td> </td>   \n",
       "</tr>\n",
       "<tr>\n",
       "  <th>Covariance Type:</th>     <td>nonrobust</td>    <th>                     </th>     <td> </td>   \n",
       "</tr>\n",
       "</table>\n",
       "<table class=\"simpletable\">\n",
       "<tr>\n",
       "                 <td></td>                    <th>coef</th>     <th>std err</th>      <th>z</th>      <th>P>|z|</th>  <th>[0.025</th>    <th>0.975]</th>  \n",
       "</tr>\n",
       "<tr>\n",
       "  <th>const</th>                           <td>    0.5078</td> <td>    1.462</td> <td>    0.347</td> <td> 0.728</td> <td>   -2.357</td> <td>    3.373</td>\n",
       "</tr>\n",
       "<tr>\n",
       "  <th>Do Not Email</th>                    <td>   -1.2678</td> <td>    0.164</td> <td>   -7.734</td> <td> 0.000</td> <td>   -1.589</td> <td>   -0.947</td>\n",
       "</tr>\n",
       "<tr>\n",
       "  <th>Total Time Spent on Website</th>     <td>    4.4095</td> <td>    0.167</td> <td>   26.404</td> <td> 0.000</td> <td>    4.082</td> <td>    4.737</td>\n",
       "</tr>\n",
       "<tr>\n",
       "  <th>Origin_Landing Page Submission</th>  <td>   -0.8826</td> <td>    0.123</td> <td>   -7.198</td> <td> 0.000</td> <td>   -1.123</td> <td>   -0.642</td>\n",
       "</tr>\n",
       "<tr>\n",
       "  <th>Origin_Lead Add Form</th>            <td>    2.1102</td> <td>    0.205</td> <td>   10.314</td> <td> 0.000</td> <td>    1.709</td> <td>    2.511</td>\n",
       "</tr>\n",
       "<tr>\n",
       "  <th>Origin_Lead Import</th>              <td>   -1.1043</td> <td>    0.446</td> <td>   -2.474</td> <td> 0.013</td> <td>   -1.979</td> <td>   -0.229</td>\n",
       "</tr>\n",
       "<tr>\n",
       "  <th>Occupation_Housewife</th>            <td>   22.3411</td> <td>  1.6e+04</td> <td>    0.001</td> <td> 0.999</td> <td>-3.13e+04</td> <td> 3.14e+04</td>\n",
       "</tr>\n",
       "<tr>\n",
       "  <th>Occupation_Other</th>                <td>   -0.4641</td> <td>    0.733</td> <td>   -0.633</td> <td> 0.527</td> <td>   -1.901</td> <td>    0.973</td>\n",
       "</tr>\n",
       "<tr>\n",
       "  <th>Occupation_Working Professional</th> <td>    2.4006</td> <td>    0.197</td> <td>   12.167</td> <td> 0.000</td> <td>    2.014</td> <td>    2.787</td>\n",
       "</tr>\n",
       "<tr>\n",
       "  <th>Specialization_Unknown</th>          <td>   -1.0100</td> <td>    0.122</td> <td>   -8.277</td> <td> 0.000</td> <td>   -1.249</td> <td>   -0.771</td>\n",
       "</tr>\n",
       "<tr>\n",
       "  <th>Source_NC_EDM</th>                   <td>   23.7175</td> <td> 4.82e+04</td> <td>    0.000</td> <td> 1.000</td> <td>-9.44e+04</td> <td> 9.45e+04</td>\n",
       "</tr>\n",
       "<tr>\n",
       "  <th>Source_Welingak Website</th>         <td>    3.2073</td> <td>    1.027</td> <td>    3.123</td> <td> 0.002</td> <td>    1.195</td> <td>    5.220</td>\n",
       "</tr>\n",
       "<tr>\n",
       "  <th>Matters_Better Career Prospects</th> <td>   -0.3458</td> <td>    1.462</td> <td>   -0.237</td> <td> 0.813</td> <td>   -3.211</td> <td>    2.519</td>\n",
       "</tr>\n",
       "<tr>\n",
       "  <th>Matters_Unknown</th>                 <td>   -1.6005</td> <td>    1.464</td> <td>   -1.094</td> <td> 0.274</td> <td>   -4.469</td> <td>    1.268</td>\n",
       "</tr>\n",
       "<tr>\n",
       "  <th>Country_india</th>                   <td>   -0.9832</td> <td>    0.117</td> <td>   -8.423</td> <td> 0.000</td> <td>   -1.212</td> <td>   -0.754</td>\n",
       "</tr>\n",
       "<tr>\n",
       "  <th>Country_outside india</th>           <td>   -1.3057</td> <td>    0.233</td> <td>   -5.593</td> <td> 0.000</td> <td>   -1.763</td> <td>   -0.848</td>\n",
       "</tr>\n",
       "</table>"
      ],
      "text/plain": [
       "<class 'statsmodels.iolib.summary.Summary'>\n",
       "\"\"\"\n",
       "                 Generalized Linear Model Regression Results                  \n",
       "==============================================================================\n",
       "Dep. Variable:              Converted   No. Observations:                 6026\n",
       "Model:                            GLM   Df Residuals:                     6010\n",
       "Model Family:                Binomial   Df Model:                           15\n",
       "Link Function:                  logit   Scale:                          1.0000\n",
       "Method:                          IRLS   Log-Likelihood:                -2681.2\n",
       "Date:                Mon, 14 Jun 2021   Deviance:                       5362.4\n",
       "Time:                        21:18:51   Pearson chi2:                 6.24e+03\n",
       "No. Iterations:                    21                                         \n",
       "Covariance Type:            nonrobust                                         \n",
       "===================================================================================================\n",
       "                                      coef    std err          z      P>|z|      [0.025      0.975]\n",
       "---------------------------------------------------------------------------------------------------\n",
       "const                               0.5078      1.462      0.347      0.728      -2.357       3.373\n",
       "Do Not Email                       -1.2678      0.164     -7.734      0.000      -1.589      -0.947\n",
       "Total Time Spent on Website         4.4095      0.167     26.404      0.000       4.082       4.737\n",
       "Origin_Landing Page Submission     -0.8826      0.123     -7.198      0.000      -1.123      -0.642\n",
       "Origin_Lead Add Form                2.1102      0.205     10.314      0.000       1.709       2.511\n",
       "Origin_Lead Import                 -1.1043      0.446     -2.474      0.013      -1.979      -0.229\n",
       "Occupation_Housewife               22.3411    1.6e+04      0.001      0.999   -3.13e+04    3.14e+04\n",
       "Occupation_Other                   -0.4641      0.733     -0.633      0.527      -1.901       0.973\n",
       "Occupation_Working Professional     2.4006      0.197     12.167      0.000       2.014       2.787\n",
       "Specialization_Unknown             -1.0100      0.122     -8.277      0.000      -1.249      -0.771\n",
       "Source_NC_EDM                      23.7175   4.82e+04      0.000      1.000   -9.44e+04    9.45e+04\n",
       "Source_Welingak Website             3.2073      1.027      3.123      0.002       1.195       5.220\n",
       "Matters_Better Career Prospects    -0.3458      1.462     -0.237      0.813      -3.211       2.519\n",
       "Matters_Unknown                    -1.6005      1.464     -1.094      0.274      -4.469       1.268\n",
       "Country_india                      -0.9832      0.117     -8.423      0.000      -1.212      -0.754\n",
       "Country_outside india              -1.3057      0.233     -5.593      0.000      -1.763      -0.848\n",
       "===================================================================================================\n",
       "\"\"\""
      ]
     },
     "execution_count": 62,
     "metadata": {},
     "output_type": "execute_result"
    }
   ],
   "source": [
    "# Assiseeing the model with statsmodel\n",
    "\n",
    "X_train_sm = sm.add_constant(X_train[cols]) # Adding the constant columns to the data.\n",
    "\n",
    "logm1 = sm.GLM(y_train, X_train_sm, family = sm.families.Binomial())\n",
    "\n",
    "res = logm1.fit()\n",
    "res.summary()"
   ]
  },
  {
   "cell_type": "code",
   "execution_count": 63,
   "id": "d5a7af05",
   "metadata": {},
   "outputs": [
    {
     "data": {
      "text/html": [
       "<div>\n",
       "<style scoped>\n",
       "    .dataframe tbody tr th:only-of-type {\n",
       "        vertical-align: middle;\n",
       "    }\n",
       "\n",
       "    .dataframe tbody tr th {\n",
       "        vertical-align: top;\n",
       "    }\n",
       "\n",
       "    .dataframe thead th {\n",
       "        text-align: right;\n",
       "    }\n",
       "</style>\n",
       "<table border=\"1\" class=\"dataframe\">\n",
       "  <thead>\n",
       "    <tr style=\"text-align: right;\">\n",
       "      <th></th>\n",
       "      <th>Feature</th>\n",
       "      <th>VIF</th>\n",
       "    </tr>\n",
       "  </thead>\n",
       "  <tbody>\n",
       "    <tr>\n",
       "      <th>11</th>\n",
       "      <td>Matters_Better Career Prospects</td>\n",
       "      <td>11.19</td>\n",
       "    </tr>\n",
       "    <tr>\n",
       "      <th>13</th>\n",
       "      <td>Country_india</td>\n",
       "      <td>7.81</td>\n",
       "    </tr>\n",
       "    <tr>\n",
       "      <th>2</th>\n",
       "      <td>Origin_Landing Page Submission</td>\n",
       "      <td>6.77</td>\n",
       "    </tr>\n",
       "    <tr>\n",
       "      <th>12</th>\n",
       "      <td>Matters_Unknown</td>\n",
       "      <td>5.50</td>\n",
       "    </tr>\n",
       "    <tr>\n",
       "      <th>8</th>\n",
       "      <td>Specialization_Unknown</td>\n",
       "      <td>4.86</td>\n",
       "    </tr>\n",
       "    <tr>\n",
       "      <th>1</th>\n",
       "      <td>Total Time Spent on Website</td>\n",
       "      <td>2.30</td>\n",
       "    </tr>\n",
       "    <tr>\n",
       "      <th>3</th>\n",
       "      <td>Origin_Lead Add Form</td>\n",
       "      <td>2.02</td>\n",
       "    </tr>\n",
       "    <tr>\n",
       "      <th>14</th>\n",
       "      <td>Country_outside india</td>\n",
       "      <td>1.33</td>\n",
       "    </tr>\n",
       "    <tr>\n",
       "      <th>10</th>\n",
       "      <td>Source_Welingak Website</td>\n",
       "      <td>1.30</td>\n",
       "    </tr>\n",
       "    <tr>\n",
       "      <th>7</th>\n",
       "      <td>Occupation_Working Professional</td>\n",
       "      <td>1.24</td>\n",
       "    </tr>\n",
       "    <tr>\n",
       "      <th>0</th>\n",
       "      <td>Do Not Email</td>\n",
       "      <td>1.12</td>\n",
       "    </tr>\n",
       "    <tr>\n",
       "      <th>4</th>\n",
       "      <td>Origin_Lead Import</td>\n",
       "      <td>1.04</td>\n",
       "    </tr>\n",
       "    <tr>\n",
       "      <th>5</th>\n",
       "      <td>Occupation_Housewife</td>\n",
       "      <td>1.01</td>\n",
       "    </tr>\n",
       "    <tr>\n",
       "      <th>6</th>\n",
       "      <td>Occupation_Other</td>\n",
       "      <td>1.01</td>\n",
       "    </tr>\n",
       "    <tr>\n",
       "      <th>9</th>\n",
       "      <td>Source_NC_EDM</td>\n",
       "      <td>1.00</td>\n",
       "    </tr>\n",
       "  </tbody>\n",
       "</table>\n",
       "</div>"
      ],
      "text/plain": [
       "                            Feature    VIF\n",
       "11  Matters_Better Career Prospects  11.19\n",
       "13                    Country_india   7.81\n",
       "2    Origin_Landing Page Submission   6.77\n",
       "12                  Matters_Unknown   5.50\n",
       "8            Specialization_Unknown   4.86\n",
       "1       Total Time Spent on Website   2.30\n",
       "3              Origin_Lead Add Form   2.02\n",
       "14            Country_outside india   1.33\n",
       "10          Source_Welingak Website   1.30\n",
       "7   Occupation_Working Professional   1.24\n",
       "0                      Do Not Email   1.12\n",
       "4                Origin_Lead Import   1.04\n",
       "5              Occupation_Housewife   1.01\n",
       "6                  Occupation_Other   1.01\n",
       "9                     Source_NC_EDM   1.00"
      ]
     },
     "execution_count": 63,
     "metadata": {},
     "output_type": "execute_result"
    }
   ],
   "source": [
    "# Checking VIF values of each column.\n",
    "\n",
    "vif = pd.DataFrame()\n",
    "\n",
    "vif['Feature'] = X_train[cols].columns\n",
    "vif['VIF'] = [variance_inflation_factor(X_train[cols].values, i) for i in range(X_train[cols].shape[1])]\n",
    "vif['VIF'] = round(vif['VIF'], 2)\n",
    "vif = vif.sort_values(by = 'VIF', ascending = False)\n",
    "vif"
   ]
  },
  {
   "cell_type": "code",
   "execution_count": 64,
   "id": "8d8ba468",
   "metadata": {},
   "outputs": [
    {
     "data": {
      "text/html": [
       "<table class=\"simpletable\">\n",
       "<caption>Generalized Linear Model Regression Results</caption>\n",
       "<tr>\n",
       "  <th>Dep. Variable:</th>       <td>Converted</td>    <th>  No. Observations:  </th>  <td>  6026</td> \n",
       "</tr>\n",
       "<tr>\n",
       "  <th>Model:</th>                  <td>GLM</td>       <th>  Df Residuals:      </th>  <td>  6011</td> \n",
       "</tr>\n",
       "<tr>\n",
       "  <th>Model Family:</th>        <td>Binomial</td>     <th>  Df Model:          </th>  <td>    14</td> \n",
       "</tr>\n",
       "<tr>\n",
       "  <th>Link Function:</th>         <td>logit</td>      <th>  Scale:             </th> <td>  1.0000</td>\n",
       "</tr>\n",
       "<tr>\n",
       "  <th>Method:</th>                <td>IRLS</td>       <th>  Log-Likelihood:    </th> <td> -2681.2</td>\n",
       "</tr>\n",
       "<tr>\n",
       "  <th>Date:</th>            <td>Mon, 14 Jun 2021</td> <th>  Deviance:          </th> <td>  5362.4</td>\n",
       "</tr>\n",
       "<tr>\n",
       "  <th>Time:</th>                <td>21:18:52</td>     <th>  Pearson chi2:      </th> <td>6.24e+03</td>\n",
       "</tr>\n",
       "<tr>\n",
       "  <th>No. Iterations:</th>         <td>21</td>        <th>                     </th>     <td> </td>   \n",
       "</tr>\n",
       "<tr>\n",
       "  <th>Covariance Type:</th>     <td>nonrobust</td>    <th>                     </th>     <td> </td>   \n",
       "</tr>\n",
       "</table>\n",
       "<table class=\"simpletable\">\n",
       "<tr>\n",
       "                 <td></td>                    <th>coef</th>     <th>std err</th>      <th>z</th>      <th>P>|z|</th>  <th>[0.025</th>    <th>0.975]</th>  \n",
       "</tr>\n",
       "<tr>\n",
       "  <th>const</th>                           <td>    0.1635</td> <td>    0.131</td> <td>    1.247</td> <td> 0.212</td> <td>   -0.093</td> <td>    0.420</td>\n",
       "</tr>\n",
       "<tr>\n",
       "  <th>Do Not Email</th>                    <td>   -1.2680</td> <td>    0.164</td> <td>   -7.735</td> <td> 0.000</td> <td>   -1.589</td> <td>   -0.947</td>\n",
       "</tr>\n",
       "<tr>\n",
       "  <th>Total Time Spent on Website</th>     <td>    4.4093</td> <td>    0.167</td> <td>   26.404</td> <td> 0.000</td> <td>    4.082</td> <td>    4.737</td>\n",
       "</tr>\n",
       "<tr>\n",
       "  <th>Origin_Landing Page Submission</th>  <td>   -0.8832</td> <td>    0.123</td> <td>   -7.205</td> <td> 0.000</td> <td>   -1.123</td> <td>   -0.643</td>\n",
       "</tr>\n",
       "<tr>\n",
       "  <th>Origin_Lead Add Form</th>            <td>    2.1093</td> <td>    0.205</td> <td>   10.312</td> <td> 0.000</td> <td>    1.708</td> <td>    2.510</td>\n",
       "</tr>\n",
       "<tr>\n",
       "  <th>Origin_Lead Import</th>              <td>   -1.1050</td> <td>    0.446</td> <td>   -2.476</td> <td> 0.013</td> <td>   -1.980</td> <td>   -0.230</td>\n",
       "</tr>\n",
       "<tr>\n",
       "  <th>Occupation_Housewife</th>            <td>   22.3408</td> <td>  1.6e+04</td> <td>    0.001</td> <td> 0.999</td> <td>-3.13e+04</td> <td> 3.14e+04</td>\n",
       "</tr>\n",
       "<tr>\n",
       "  <th>Occupation_Other</th>                <td>   -0.4644</td> <td>    0.733</td> <td>   -0.633</td> <td> 0.526</td> <td>   -1.902</td> <td>    0.973</td>\n",
       "</tr>\n",
       "<tr>\n",
       "  <th>Occupation_Working Professional</th> <td>    2.4003</td> <td>    0.197</td> <td>   12.165</td> <td> 0.000</td> <td>    2.014</td> <td>    2.787</td>\n",
       "</tr>\n",
       "<tr>\n",
       "  <th>Specialization_Unknown</th>          <td>   -1.0111</td> <td>    0.122</td> <td>   -8.291</td> <td> 0.000</td> <td>   -1.250</td> <td>   -0.772</td>\n",
       "</tr>\n",
       "<tr>\n",
       "  <th>Source_NC_EDM</th>                   <td>   23.7175</td> <td> 4.82e+04</td> <td>    0.000</td> <td> 1.000</td> <td>-9.44e+04</td> <td> 9.45e+04</td>\n",
       "</tr>\n",
       "<tr>\n",
       "  <th>Source_Welingak Website</th>         <td>    3.2077</td> <td>    1.027</td> <td>    3.124</td> <td> 0.002</td> <td>    1.195</td> <td>    5.220</td>\n",
       "</tr>\n",
       "<tr>\n",
       "  <th>Matters_Unknown</th>                 <td>   -1.2548</td> <td>    0.086</td> <td>  -14.556</td> <td> 0.000</td> <td>   -1.424</td> <td>   -1.086</td>\n",
       "</tr>\n",
       "<tr>\n",
       "  <th>Country_india</th>                   <td>   -0.9837</td> <td>    0.117</td> <td>   -8.429</td> <td> 0.000</td> <td>   -1.212</td> <td>   -0.755</td>\n",
       "</tr>\n",
       "<tr>\n",
       "  <th>Country_outside india</th>           <td>   -1.3063</td> <td>    0.233</td> <td>   -5.596</td> <td> 0.000</td> <td>   -1.764</td> <td>   -0.849</td>\n",
       "</tr>\n",
       "</table>"
      ],
      "text/plain": [
       "<class 'statsmodels.iolib.summary.Summary'>\n",
       "\"\"\"\n",
       "                 Generalized Linear Model Regression Results                  \n",
       "==============================================================================\n",
       "Dep. Variable:              Converted   No. Observations:                 6026\n",
       "Model:                            GLM   Df Residuals:                     6011\n",
       "Model Family:                Binomial   Df Model:                           14\n",
       "Link Function:                  logit   Scale:                          1.0000\n",
       "Method:                          IRLS   Log-Likelihood:                -2681.2\n",
       "Date:                Mon, 14 Jun 2021   Deviance:                       5362.4\n",
       "Time:                        21:18:52   Pearson chi2:                 6.24e+03\n",
       "No. Iterations:                    21                                         \n",
       "Covariance Type:            nonrobust                                         \n",
       "===================================================================================================\n",
       "                                      coef    std err          z      P>|z|      [0.025      0.975]\n",
       "---------------------------------------------------------------------------------------------------\n",
       "const                               0.1635      0.131      1.247      0.212      -0.093       0.420\n",
       "Do Not Email                       -1.2680      0.164     -7.735      0.000      -1.589      -0.947\n",
       "Total Time Spent on Website         4.4093      0.167     26.404      0.000       4.082       4.737\n",
       "Origin_Landing Page Submission     -0.8832      0.123     -7.205      0.000      -1.123      -0.643\n",
       "Origin_Lead Add Form                2.1093      0.205     10.312      0.000       1.708       2.510\n",
       "Origin_Lead Import                 -1.1050      0.446     -2.476      0.013      -1.980      -0.230\n",
       "Occupation_Housewife               22.3408    1.6e+04      0.001      0.999   -3.13e+04    3.14e+04\n",
       "Occupation_Other                   -0.4644      0.733     -0.633      0.526      -1.902       0.973\n",
       "Occupation_Working Professional     2.4003      0.197     12.165      0.000       2.014       2.787\n",
       "Specialization_Unknown             -1.0111      0.122     -8.291      0.000      -1.250      -0.772\n",
       "Source_NC_EDM                      23.7175   4.82e+04      0.000      1.000   -9.44e+04    9.45e+04\n",
       "Source_Welingak Website             3.2077      1.027      3.124      0.002       1.195       5.220\n",
       "Matters_Unknown                    -1.2548      0.086    -14.556      0.000      -1.424      -1.086\n",
       "Country_india                      -0.9837      0.117     -8.429      0.000      -1.212      -0.755\n",
       "Country_outside india              -1.3063      0.233     -5.596      0.000      -1.764      -0.849\n",
       "===================================================================================================\n",
       "\"\"\""
      ]
     },
     "execution_count": 64,
     "metadata": {},
     "output_type": "execute_result"
    }
   ],
   "source": [
    "# Dropping 'Matters_Better Career Prospects' column due to high VIF value and again running the model and checking the summary.\n",
    "\n",
    "cols = cols.drop('Matters_Better Career Prospects', 1)\n",
    "\n",
    "X_train_sm = sm.add_constant(X_train[cols])\n",
    "\n",
    "logm2 = sm.GLM(y_train, X_train_sm, family = sm.families.Binomial())\n",
    "\n",
    "res = logm2.fit()\n",
    "res.summary()"
   ]
  },
  {
   "cell_type": "code",
   "execution_count": 65,
   "id": "6a79c951",
   "metadata": {},
   "outputs": [
    {
     "data": {
      "text/html": [
       "<div>\n",
       "<style scoped>\n",
       "    .dataframe tbody tr th:only-of-type {\n",
       "        vertical-align: middle;\n",
       "    }\n",
       "\n",
       "    .dataframe tbody tr th {\n",
       "        vertical-align: top;\n",
       "    }\n",
       "\n",
       "    .dataframe thead th {\n",
       "        text-align: right;\n",
       "    }\n",
       "</style>\n",
       "<table border=\"1\" class=\"dataframe\">\n",
       "  <thead>\n",
       "    <tr style=\"text-align: right;\">\n",
       "      <th></th>\n",
       "      <th>Feature</th>\n",
       "      <th>VIF</th>\n",
       "    </tr>\n",
       "  </thead>\n",
       "  <tbody>\n",
       "    <tr>\n",
       "      <th>12</th>\n",
       "      <td>Country_india</td>\n",
       "      <td>6.00</td>\n",
       "    </tr>\n",
       "    <tr>\n",
       "      <th>2</th>\n",
       "      <td>Origin_Landing Page Submission</td>\n",
       "      <td>4.66</td>\n",
       "    </tr>\n",
       "    <tr>\n",
       "      <th>1</th>\n",
       "      <td>Total Time Spent on Website</td>\n",
       "      <td>2.28</td>\n",
       "    </tr>\n",
       "    <tr>\n",
       "      <th>8</th>\n",
       "      <td>Specialization_Unknown</td>\n",
       "      <td>1.91</td>\n",
       "    </tr>\n",
       "    <tr>\n",
       "      <th>11</th>\n",
       "      <td>Matters_Unknown</td>\n",
       "      <td>1.59</td>\n",
       "    </tr>\n",
       "    <tr>\n",
       "      <th>3</th>\n",
       "      <td>Origin_Lead Add Form</td>\n",
       "      <td>1.41</td>\n",
       "    </tr>\n",
       "    <tr>\n",
       "      <th>10</th>\n",
       "      <td>Source_Welingak Website</td>\n",
       "      <td>1.28</td>\n",
       "    </tr>\n",
       "    <tr>\n",
       "      <th>13</th>\n",
       "      <td>Country_outside india</td>\n",
       "      <td>1.26</td>\n",
       "    </tr>\n",
       "    <tr>\n",
       "      <th>7</th>\n",
       "      <td>Occupation_Working Professional</td>\n",
       "      <td>1.18</td>\n",
       "    </tr>\n",
       "    <tr>\n",
       "      <th>0</th>\n",
       "      <td>Do Not Email</td>\n",
       "      <td>1.12</td>\n",
       "    </tr>\n",
       "    <tr>\n",
       "      <th>4</th>\n",
       "      <td>Origin_Lead Import</td>\n",
       "      <td>1.02</td>\n",
       "    </tr>\n",
       "    <tr>\n",
       "      <th>5</th>\n",
       "      <td>Occupation_Housewife</td>\n",
       "      <td>1.01</td>\n",
       "    </tr>\n",
       "    <tr>\n",
       "      <th>6</th>\n",
       "      <td>Occupation_Other</td>\n",
       "      <td>1.01</td>\n",
       "    </tr>\n",
       "    <tr>\n",
       "      <th>9</th>\n",
       "      <td>Source_NC_EDM</td>\n",
       "      <td>1.00</td>\n",
       "    </tr>\n",
       "  </tbody>\n",
       "</table>\n",
       "</div>"
      ],
      "text/plain": [
       "                            Feature   VIF\n",
       "12                    Country_india  6.00\n",
       "2    Origin_Landing Page Submission  4.66\n",
       "1       Total Time Spent on Website  2.28\n",
       "8            Specialization_Unknown  1.91\n",
       "11                  Matters_Unknown  1.59\n",
       "3              Origin_Lead Add Form  1.41\n",
       "10          Source_Welingak Website  1.28\n",
       "13            Country_outside india  1.26\n",
       "7   Occupation_Working Professional  1.18\n",
       "0                      Do Not Email  1.12\n",
       "4                Origin_Lead Import  1.02\n",
       "5              Occupation_Housewife  1.01\n",
       "6                  Occupation_Other  1.01\n",
       "9                     Source_NC_EDM  1.00"
      ]
     },
     "execution_count": 65,
     "metadata": {},
     "output_type": "execute_result"
    }
   ],
   "source": [
    "# Once more checking the VF values of remaining columns.\n",
    "\n",
    "vif = pd.DataFrame()\n",
    "\n",
    "vif['Feature'] = X_train[cols].columns\n",
    "vif['VIF'] = [variance_inflation_factor(X_train[cols].values, i) for i in range(X_train[cols].shape[1])]\n",
    "vif['VIF'] = round(vif['VIF'], 2)\n",
    "vif = vif.sort_values(by = 'VIF', ascending = False)\n",
    "vif"
   ]
  },
  {
   "cell_type": "code",
   "execution_count": 66,
   "id": "37bd0280",
   "metadata": {},
   "outputs": [
    {
     "data": {
      "text/html": [
       "<table class=\"simpletable\">\n",
       "<caption>Generalized Linear Model Regression Results</caption>\n",
       "<tr>\n",
       "  <th>Dep. Variable:</th>       <td>Converted</td>    <th>  No. Observations:  </th>  <td>  6026</td> \n",
       "</tr>\n",
       "<tr>\n",
       "  <th>Model:</th>                  <td>GLM</td>       <th>  Df Residuals:      </th>  <td>  6012</td> \n",
       "</tr>\n",
       "<tr>\n",
       "  <th>Model Family:</th>        <td>Binomial</td>     <th>  Df Model:          </th>  <td>    13</td> \n",
       "</tr>\n",
       "<tr>\n",
       "  <th>Link Function:</th>         <td>logit</td>      <th>  Scale:             </th> <td>  1.0000</td>\n",
       "</tr>\n",
       "<tr>\n",
       "  <th>Method:</th>                <td>IRLS</td>       <th>  Log-Likelihood:    </th> <td> -2717.4</td>\n",
       "</tr>\n",
       "<tr>\n",
       "  <th>Date:</th>            <td>Mon, 14 Jun 2021</td> <th>  Deviance:          </th> <td>  5434.8</td>\n",
       "</tr>\n",
       "<tr>\n",
       "  <th>Time:</th>                <td>21:18:52</td>     <th>  Pearson chi2:      </th> <td>6.19e+03</td>\n",
       "</tr>\n",
       "<tr>\n",
       "  <th>No. Iterations:</th>         <td>21</td>        <th>                     </th>     <td> </td>   \n",
       "</tr>\n",
       "<tr>\n",
       "  <th>Covariance Type:</th>     <td>nonrobust</td>    <th>                     </th>     <td> </td>   \n",
       "</tr>\n",
       "</table>\n",
       "<table class=\"simpletable\">\n",
       "<tr>\n",
       "                 <td></td>                    <th>coef</th>     <th>std err</th>      <th>z</th>      <th>P>|z|</th>  <th>[0.025</th>    <th>0.975]</th>  \n",
       "</tr>\n",
       "<tr>\n",
       "  <th>const</th>                           <td>   -0.3874</td> <td>    0.114</td> <td>   -3.403</td> <td> 0.001</td> <td>   -0.611</td> <td>   -0.164</td>\n",
       "</tr>\n",
       "<tr>\n",
       "  <th>Do Not Email</th>                    <td>   -1.2530</td> <td>    0.161</td> <td>   -7.765</td> <td> 0.000</td> <td>   -1.569</td> <td>   -0.937</td>\n",
       "</tr>\n",
       "<tr>\n",
       "  <th>Total Time Spent on Website</th>     <td>    3.8667</td> <td>    0.149</td> <td>   25.886</td> <td> 0.000</td> <td>    3.574</td> <td>    4.159</td>\n",
       "</tr>\n",
       "<tr>\n",
       "  <th>Origin_Landing Page Submission</th>  <td>   -1.1456</td> <td>    0.118</td> <td>   -9.736</td> <td> 0.000</td> <td>   -1.376</td> <td>   -0.915</td>\n",
       "</tr>\n",
       "<tr>\n",
       "  <th>Origin_Lead Add Form</th>            <td>    2.5845</td> <td>    0.197</td> <td>   13.115</td> <td> 0.000</td> <td>    2.198</td> <td>    2.971</td>\n",
       "</tr>\n",
       "<tr>\n",
       "  <th>Origin_Lead Import</th>              <td>   -0.5661</td> <td>    0.433</td> <td>   -1.308</td> <td> 0.191</td> <td>   -1.414</td> <td>    0.282</td>\n",
       "</tr>\n",
       "<tr>\n",
       "  <th>Occupation_Housewife</th>            <td>   22.2057</td> <td> 1.61e+04</td> <td>    0.001</td> <td> 0.999</td> <td>-3.15e+04</td> <td> 3.15e+04</td>\n",
       "</tr>\n",
       "<tr>\n",
       "  <th>Occupation_Other</th>                <td>   -0.4539</td> <td>    0.732</td> <td>   -0.620</td> <td> 0.535</td> <td>   -1.888</td> <td>    0.980</td>\n",
       "</tr>\n",
       "<tr>\n",
       "  <th>Occupation_Working Professional</th> <td>    2.4006</td> <td>    0.195</td> <td>   12.336</td> <td> 0.000</td> <td>    2.019</td> <td>    2.782</td>\n",
       "</tr>\n",
       "<tr>\n",
       "  <th>Specialization_Unknown</th>          <td>   -0.8824</td> <td>    0.120</td> <td>   -7.367</td> <td> 0.000</td> <td>   -1.117</td> <td>   -0.648</td>\n",
       "</tr>\n",
       "<tr>\n",
       "  <th>Source_NC_EDM</th>                   <td>   23.7297</td> <td> 4.82e+04</td> <td>    0.000</td> <td> 1.000</td> <td>-9.44e+04</td> <td> 9.45e+04</td>\n",
       "</tr>\n",
       "<tr>\n",
       "  <th>Source_Welingak Website</th>         <td>    3.1561</td> <td>    1.027</td> <td>    3.074</td> <td> 0.002</td> <td>    1.144</td> <td>    5.168</td>\n",
       "</tr>\n",
       "<tr>\n",
       "  <th>Matters_Unknown</th>                 <td>   -1.2151</td> <td>    0.086</td> <td>  -14.196</td> <td> 0.000</td> <td>   -1.383</td> <td>   -1.047</td>\n",
       "</tr>\n",
       "<tr>\n",
       "  <th>Country_outside india</th>           <td>   -0.3967</td> <td>    0.202</td> <td>   -1.964</td> <td> 0.050</td> <td>   -0.793</td> <td>   -0.001</td>\n",
       "</tr>\n",
       "</table>"
      ],
      "text/plain": [
       "<class 'statsmodels.iolib.summary.Summary'>\n",
       "\"\"\"\n",
       "                 Generalized Linear Model Regression Results                  \n",
       "==============================================================================\n",
       "Dep. Variable:              Converted   No. Observations:                 6026\n",
       "Model:                            GLM   Df Residuals:                     6012\n",
       "Model Family:                Binomial   Df Model:                           13\n",
       "Link Function:                  logit   Scale:                          1.0000\n",
       "Method:                          IRLS   Log-Likelihood:                -2717.4\n",
       "Date:                Mon, 14 Jun 2021   Deviance:                       5434.8\n",
       "Time:                        21:18:52   Pearson chi2:                 6.19e+03\n",
       "No. Iterations:                    21                                         \n",
       "Covariance Type:            nonrobust                                         \n",
       "===================================================================================================\n",
       "                                      coef    std err          z      P>|z|      [0.025      0.975]\n",
       "---------------------------------------------------------------------------------------------------\n",
       "const                              -0.3874      0.114     -3.403      0.001      -0.611      -0.164\n",
       "Do Not Email                       -1.2530      0.161     -7.765      0.000      -1.569      -0.937\n",
       "Total Time Spent on Website         3.8667      0.149     25.886      0.000       3.574       4.159\n",
       "Origin_Landing Page Submission     -1.1456      0.118     -9.736      0.000      -1.376      -0.915\n",
       "Origin_Lead Add Form                2.5845      0.197     13.115      0.000       2.198       2.971\n",
       "Origin_Lead Import                 -0.5661      0.433     -1.308      0.191      -1.414       0.282\n",
       "Occupation_Housewife               22.2057   1.61e+04      0.001      0.999   -3.15e+04    3.15e+04\n",
       "Occupation_Other                   -0.4539      0.732     -0.620      0.535      -1.888       0.980\n",
       "Occupation_Working Professional     2.4006      0.195     12.336      0.000       2.019       2.782\n",
       "Specialization_Unknown             -0.8824      0.120     -7.367      0.000      -1.117      -0.648\n",
       "Source_NC_EDM                      23.7297   4.82e+04      0.000      1.000   -9.44e+04    9.45e+04\n",
       "Source_Welingak Website             3.1561      1.027      3.074      0.002       1.144       5.168\n",
       "Matters_Unknown                    -1.2151      0.086    -14.196      0.000      -1.383      -1.047\n",
       "Country_outside india              -0.3967      0.202     -1.964      0.050      -0.793      -0.001\n",
       "===================================================================================================\n",
       "\"\"\""
      ]
     },
     "execution_count": 66,
     "metadata": {},
     "output_type": "execute_result"
    }
   ],
   "source": [
    "# Will have to drop 'Country_india' also for VIF value greater than 5.\n",
    "\n",
    "cols = cols.drop('Country_india', 1)\n",
    "\n",
    "X_train_sm = sm.add_constant(X_train[cols])\n",
    "\n",
    "logm3 = sm.GLM(y_train, X_train_sm, family = sm.families.Binomial())\n",
    "\n",
    "res = logm3.fit()\n",
    "res.summary()"
   ]
  },
  {
   "cell_type": "code",
   "execution_count": 67,
   "id": "e6e37b96",
   "metadata": {},
   "outputs": [
    {
     "data": {
      "text/html": [
       "<div>\n",
       "<style scoped>\n",
       "    .dataframe tbody tr th:only-of-type {\n",
       "        vertical-align: middle;\n",
       "    }\n",
       "\n",
       "    .dataframe tbody tr th {\n",
       "        vertical-align: top;\n",
       "    }\n",
       "\n",
       "    .dataframe thead th {\n",
       "        text-align: right;\n",
       "    }\n",
       "</style>\n",
       "<table border=\"1\" class=\"dataframe\">\n",
       "  <thead>\n",
       "    <tr style=\"text-align: right;\">\n",
       "      <th></th>\n",
       "      <th>Feature</th>\n",
       "      <th>VIF</th>\n",
       "    </tr>\n",
       "  </thead>\n",
       "  <tbody>\n",
       "    <tr>\n",
       "      <th>2</th>\n",
       "      <td>Origin_Landing Page Submission</td>\n",
       "      <td>2.03</td>\n",
       "    </tr>\n",
       "    <tr>\n",
       "      <th>1</th>\n",
       "      <td>Total Time Spent on Website</td>\n",
       "      <td>1.82</td>\n",
       "    </tr>\n",
       "    <tr>\n",
       "      <th>11</th>\n",
       "      <td>Matters_Unknown</td>\n",
       "      <td>1.59</td>\n",
       "    </tr>\n",
       "    <tr>\n",
       "      <th>8</th>\n",
       "      <td>Specialization_Unknown</td>\n",
       "      <td>1.58</td>\n",
       "    </tr>\n",
       "    <tr>\n",
       "      <th>3</th>\n",
       "      <td>Origin_Lead Add Form</td>\n",
       "      <td>1.39</td>\n",
       "    </tr>\n",
       "    <tr>\n",
       "      <th>10</th>\n",
       "      <td>Source_Welingak Website</td>\n",
       "      <td>1.28</td>\n",
       "    </tr>\n",
       "    <tr>\n",
       "      <th>7</th>\n",
       "      <td>Occupation_Working Professional</td>\n",
       "      <td>1.17</td>\n",
       "    </tr>\n",
       "    <tr>\n",
       "      <th>0</th>\n",
       "      <td>Do Not Email</td>\n",
       "      <td>1.12</td>\n",
       "    </tr>\n",
       "    <tr>\n",
       "      <th>12</th>\n",
       "      <td>Country_outside india</td>\n",
       "      <td>1.05</td>\n",
       "    </tr>\n",
       "    <tr>\n",
       "      <th>4</th>\n",
       "      <td>Origin_Lead Import</td>\n",
       "      <td>1.01</td>\n",
       "    </tr>\n",
       "    <tr>\n",
       "      <th>5</th>\n",
       "      <td>Occupation_Housewife</td>\n",
       "      <td>1.01</td>\n",
       "    </tr>\n",
       "    <tr>\n",
       "      <th>6</th>\n",
       "      <td>Occupation_Other</td>\n",
       "      <td>1.00</td>\n",
       "    </tr>\n",
       "    <tr>\n",
       "      <th>9</th>\n",
       "      <td>Source_NC_EDM</td>\n",
       "      <td>1.00</td>\n",
       "    </tr>\n",
       "  </tbody>\n",
       "</table>\n",
       "</div>"
      ],
      "text/plain": [
       "                            Feature   VIF\n",
       "2    Origin_Landing Page Submission  2.03\n",
       "1       Total Time Spent on Website  1.82\n",
       "11                  Matters_Unknown  1.59\n",
       "8            Specialization_Unknown  1.58\n",
       "3              Origin_Lead Add Form  1.39\n",
       "10          Source_Welingak Website  1.28\n",
       "7   Occupation_Working Professional  1.17\n",
       "0                      Do Not Email  1.12\n",
       "12            Country_outside india  1.05\n",
       "4                Origin_Lead Import  1.01\n",
       "5              Occupation_Housewife  1.01\n",
       "6                  Occupation_Other  1.00\n",
       "9                     Source_NC_EDM  1.00"
      ]
     },
     "execution_count": 67,
     "metadata": {},
     "output_type": "execute_result"
    }
   ],
   "source": [
    "vif = pd.DataFrame()\n",
    "\n",
    "vif['Feature'] = X_train[cols].columns\n",
    "vif['VIF'] = [variance_inflation_factor(X_train[cols].values, i) for i in range(X_train[cols].shape[1])]\n",
    "vif['VIF'] = round(vif['VIF'], 2)\n",
    "vif = vif.sort_values(by = 'VIF', ascending = False)\n",
    "vif"
   ]
  },
  {
   "cell_type": "markdown",
   "id": "e637f76d",
   "metadata": {},
   "source": [
    "Now VIF values seems to be under the required/allowed range."
   ]
  },
  {
   "cell_type": "code",
   "execution_count": 68,
   "id": "36a963e6",
   "metadata": {},
   "outputs": [
    {
     "data": {
      "text/html": [
       "<table class=\"simpletable\">\n",
       "<caption>Generalized Linear Model Regression Results</caption>\n",
       "<tr>\n",
       "  <th>Dep. Variable:</th>       <td>Converted</td>    <th>  No. Observations:  </th>  <td>  6026</td> \n",
       "</tr>\n",
       "<tr>\n",
       "  <th>Model:</th>                  <td>GLM</td>       <th>  Df Residuals:      </th>  <td>  6013</td> \n",
       "</tr>\n",
       "<tr>\n",
       "  <th>Model Family:</th>        <td>Binomial</td>     <th>  Df Model:          </th>  <td>    12</td> \n",
       "</tr>\n",
       "<tr>\n",
       "  <th>Link Function:</th>         <td>logit</td>      <th>  Scale:             </th> <td>  1.0000</td>\n",
       "</tr>\n",
       "<tr>\n",
       "  <th>Method:</th>                <td>IRLS</td>       <th>  Log-Likelihood:    </th> <td> -2718.8</td>\n",
       "</tr>\n",
       "<tr>\n",
       "  <th>Date:</th>            <td>Mon, 14 Jun 2021</td> <th>  Deviance:          </th> <td>  5437.7</td>\n",
       "</tr>\n",
       "<tr>\n",
       "  <th>Time:</th>                <td>21:18:53</td>     <th>  Pearson chi2:      </th> <td>6.19e+03</td>\n",
       "</tr>\n",
       "<tr>\n",
       "  <th>No. Iterations:</th>         <td>21</td>        <th>                     </th>     <td> </td>   \n",
       "</tr>\n",
       "<tr>\n",
       "  <th>Covariance Type:</th>     <td>nonrobust</td>    <th>                     </th>     <td> </td>   \n",
       "</tr>\n",
       "</table>\n",
       "<table class=\"simpletable\">\n",
       "<tr>\n",
       "                 <td></td>                    <th>coef</th>     <th>std err</th>      <th>z</th>      <th>P>|z|</th>  <th>[0.025</th>    <th>0.975]</th>  \n",
       "</tr>\n",
       "<tr>\n",
       "  <th>const</th>                           <td>   -0.3881</td> <td>    0.114</td> <td>   -3.409</td> <td> 0.001</td> <td>   -0.611</td> <td>   -0.165</td>\n",
       "</tr>\n",
       "<tr>\n",
       "  <th>Do Not Email</th>                    <td>   -1.2542</td> <td>    0.161</td> <td>   -7.773</td> <td> 0.000</td> <td>   -1.570</td> <td>   -0.938</td>\n",
       "</tr>\n",
       "<tr>\n",
       "  <th>Total Time Spent on Website</th>     <td>    3.8678</td> <td>    0.149</td> <td>   25.897</td> <td> 0.000</td> <td>    3.575</td> <td>    4.161</td>\n",
       "</tr>\n",
       "<tr>\n",
       "  <th>Origin_Landing Page Submission</th>  <td>   -1.1445</td> <td>    0.118</td> <td>   -9.727</td> <td> 0.000</td> <td>   -1.375</td> <td>   -0.914</td>\n",
       "</tr>\n",
       "<tr>\n",
       "  <th>Origin_Lead Add Form</th>            <td>    2.5858</td> <td>    0.197</td> <td>   13.121</td> <td> 0.000</td> <td>    2.200</td> <td>    2.972</td>\n",
       "</tr>\n",
       "<tr>\n",
       "  <th>Origin_Lead Import</th>              <td>   -0.5655</td> <td>    0.433</td> <td>   -1.307</td> <td> 0.191</td> <td>   -1.414</td> <td>    0.283</td>\n",
       "</tr>\n",
       "<tr>\n",
       "  <th>Occupation_Housewife</th>            <td>   22.2051</td> <td> 1.61e+04</td> <td>    0.001</td> <td> 0.999</td> <td>-3.15e+04</td> <td> 3.15e+04</td>\n",
       "</tr>\n",
       "<tr>\n",
       "  <th>Occupation_Other</th>                <td>   -0.4544</td> <td>    0.732</td> <td>   -0.621</td> <td> 0.535</td> <td>   -1.889</td> <td>    0.980</td>\n",
       "</tr>\n",
       "<tr>\n",
       "  <th>Occupation_Working Professional</th> <td>    2.4002</td> <td>    0.195</td> <td>   12.334</td> <td> 0.000</td> <td>    2.019</td> <td>    2.782</td>\n",
       "</tr>\n",
       "<tr>\n",
       "  <th>Specialization_Unknown</th>          <td>   -0.8833</td> <td>    0.120</td> <td>   -7.375</td> <td> 0.000</td> <td>   -1.118</td> <td>   -0.649</td>\n",
       "</tr>\n",
       "<tr>\n",
       "  <th>Source_Welingak Website</th>         <td>    3.1565</td> <td>    1.027</td> <td>    3.075</td> <td> 0.002</td> <td>    1.145</td> <td>    5.169</td>\n",
       "</tr>\n",
       "<tr>\n",
       "  <th>Matters_Unknown</th>                 <td>   -1.2105</td> <td>    0.085</td> <td>  -14.162</td> <td> 0.000</td> <td>   -1.378</td> <td>   -1.043</td>\n",
       "</tr>\n",
       "<tr>\n",
       "  <th>Country_outside india</th>           <td>   -0.3978</td> <td>    0.202</td> <td>   -1.970</td> <td> 0.049</td> <td>   -0.794</td> <td>   -0.002</td>\n",
       "</tr>\n",
       "</table>"
      ],
      "text/plain": [
       "<class 'statsmodels.iolib.summary.Summary'>\n",
       "\"\"\"\n",
       "                 Generalized Linear Model Regression Results                  \n",
       "==============================================================================\n",
       "Dep. Variable:              Converted   No. Observations:                 6026\n",
       "Model:                            GLM   Df Residuals:                     6013\n",
       "Model Family:                Binomial   Df Model:                           12\n",
       "Link Function:                  logit   Scale:                          1.0000\n",
       "Method:                          IRLS   Log-Likelihood:                -2718.8\n",
       "Date:                Mon, 14 Jun 2021   Deviance:                       5437.7\n",
       "Time:                        21:18:53   Pearson chi2:                 6.19e+03\n",
       "No. Iterations:                    21                                         \n",
       "Covariance Type:            nonrobust                                         \n",
       "===================================================================================================\n",
       "                                      coef    std err          z      P>|z|      [0.025      0.975]\n",
       "---------------------------------------------------------------------------------------------------\n",
       "const                              -0.3881      0.114     -3.409      0.001      -0.611      -0.165\n",
       "Do Not Email                       -1.2542      0.161     -7.773      0.000      -1.570      -0.938\n",
       "Total Time Spent on Website         3.8678      0.149     25.897      0.000       3.575       4.161\n",
       "Origin_Landing Page Submission     -1.1445      0.118     -9.727      0.000      -1.375      -0.914\n",
       "Origin_Lead Add Form                2.5858      0.197     13.121      0.000       2.200       2.972\n",
       "Origin_Lead Import                 -0.5655      0.433     -1.307      0.191      -1.414       0.283\n",
       "Occupation_Housewife               22.2051   1.61e+04      0.001      0.999   -3.15e+04    3.15e+04\n",
       "Occupation_Other                   -0.4544      0.732     -0.621      0.535      -1.889       0.980\n",
       "Occupation_Working Professional     2.4002      0.195     12.334      0.000       2.019       2.782\n",
       "Specialization_Unknown             -0.8833      0.120     -7.375      0.000      -1.118      -0.649\n",
       "Source_Welingak Website             3.1565      1.027      3.075      0.002       1.145       5.169\n",
       "Matters_Unknown                    -1.2105      0.085    -14.162      0.000      -1.378      -1.043\n",
       "Country_outside india              -0.3978      0.202     -1.970      0.049      -0.794      -0.002\n",
       "===================================================================================================\n",
       "\"\"\""
      ]
     },
     "execution_count": 68,
     "metadata": {},
     "output_type": "execute_result"
    }
   ],
   "source": [
    "# Dropping 'Source_NC_EDM' due to high P-value.\n",
    "\n",
    "cols = cols.drop('Source_NC_EDM', 1)\n",
    "\n",
    "X_train_sm = sm.add_constant(X_train[cols])\n",
    "\n",
    "logm4 = sm.GLM(y_train, X_train_sm, family = sm.families.Binomial())\n",
    "\n",
    "res = logm4.fit()\n",
    "res.summary()"
   ]
  },
  {
   "cell_type": "code",
   "execution_count": 69,
   "id": "a3cf8533",
   "metadata": {},
   "outputs": [
    {
     "data": {
      "text/html": [
       "<table class=\"simpletable\">\n",
       "<caption>Generalized Linear Model Regression Results</caption>\n",
       "<tr>\n",
       "  <th>Dep. Variable:</th>       <td>Converted</td>    <th>  No. Observations:  </th>  <td>  6026</td> \n",
       "</tr>\n",
       "<tr>\n",
       "  <th>Model:</th>                  <td>GLM</td>       <th>  Df Residuals:      </th>  <td>  6014</td> \n",
       "</tr>\n",
       "<tr>\n",
       "  <th>Model Family:</th>        <td>Binomial</td>     <th>  Df Model:          </th>  <td>    11</td> \n",
       "</tr>\n",
       "<tr>\n",
       "  <th>Link Function:</th>         <td>logit</td>      <th>  Scale:             </th> <td>  1.0000</td>\n",
       "</tr>\n",
       "<tr>\n",
       "  <th>Method:</th>                <td>IRLS</td>       <th>  Log-Likelihood:    </th> <td> -2721.8</td>\n",
       "</tr>\n",
       "<tr>\n",
       "  <th>Date:</th>            <td>Mon, 14 Jun 2021</td> <th>  Deviance:          </th> <td>  5443.6</td>\n",
       "</tr>\n",
       "<tr>\n",
       "  <th>Time:</th>                <td>21:18:53</td>     <th>  Pearson chi2:      </th> <td>6.20e+03</td>\n",
       "</tr>\n",
       "<tr>\n",
       "  <th>No. Iterations:</th>          <td>7</td>        <th>                     </th>     <td> </td>   \n",
       "</tr>\n",
       "<tr>\n",
       "  <th>Covariance Type:</th>     <td>nonrobust</td>    <th>                     </th>     <td> </td>   \n",
       "</tr>\n",
       "</table>\n",
       "<table class=\"simpletable\">\n",
       "<tr>\n",
       "                 <td></td>                    <th>coef</th>     <th>std err</th>      <th>z</th>      <th>P>|z|</th>  <th>[0.025</th>    <th>0.975]</th>  \n",
       "</tr>\n",
       "<tr>\n",
       "  <th>const</th>                           <td>   -0.3835</td> <td>    0.114</td> <td>   -3.371</td> <td> 0.001</td> <td>   -0.607</td> <td>   -0.161</td>\n",
       "</tr>\n",
       "<tr>\n",
       "  <th>Do Not Email</th>                    <td>   -1.2570</td> <td>    0.161</td> <td>   -7.790</td> <td> 0.000</td> <td>   -1.573</td> <td>   -0.941</td>\n",
       "</tr>\n",
       "<tr>\n",
       "  <th>Total Time Spent on Website</th>     <td>    3.8636</td> <td>    0.149</td> <td>   25.884</td> <td> 0.000</td> <td>    3.571</td> <td>    4.156</td>\n",
       "</tr>\n",
       "<tr>\n",
       "  <th>Origin_Landing Page Submission</th>  <td>   -1.1443</td> <td>    0.118</td> <td>   -9.734</td> <td> 0.000</td> <td>   -1.375</td> <td>   -0.914</td>\n",
       "</tr>\n",
       "<tr>\n",
       "  <th>Origin_Lead Add Form</th>            <td>    2.5928</td> <td>    0.197</td> <td>   13.167</td> <td> 0.000</td> <td>    2.207</td> <td>    2.979</td>\n",
       "</tr>\n",
       "<tr>\n",
       "  <th>Origin_Lead Import</th>              <td>   -0.5668</td> <td>    0.433</td> <td>   -1.310</td> <td> 0.190</td> <td>   -1.415</td> <td>    0.281</td>\n",
       "</tr>\n",
       "<tr>\n",
       "  <th>Occupation_Other</th>                <td>   -0.4561</td> <td>    0.732</td> <td>   -0.623</td> <td> 0.533</td> <td>   -1.890</td> <td>    0.978</td>\n",
       "</tr>\n",
       "<tr>\n",
       "  <th>Occupation_Working Professional</th> <td>    2.3966</td> <td>    0.195</td> <td>   12.316</td> <td> 0.000</td> <td>    2.015</td> <td>    2.778</td>\n",
       "</tr>\n",
       "<tr>\n",
       "  <th>Specialization_Unknown</th>          <td>   -0.8870</td> <td>    0.120</td> <td>   -7.411</td> <td> 0.000</td> <td>   -1.122</td> <td>   -0.652</td>\n",
       "</tr>\n",
       "<tr>\n",
       "  <th>Source_Welingak Website</th>         <td>    3.1492</td> <td>    1.027</td> <td>    3.068</td> <td> 0.002</td> <td>    1.137</td> <td>    5.161</td>\n",
       "</tr>\n",
       "<tr>\n",
       "  <th>Matters_Unknown</th>                 <td>   -1.2121</td> <td>    0.085</td> <td>  -14.184</td> <td> 0.000</td> <td>   -1.380</td> <td>   -1.045</td>\n",
       "</tr>\n",
       "<tr>\n",
       "  <th>Country_outside india</th>           <td>   -0.3948</td> <td>    0.201</td> <td>   -1.961</td> <td> 0.050</td> <td>   -0.789</td> <td>   -0.000</td>\n",
       "</tr>\n",
       "</table>"
      ],
      "text/plain": [
       "<class 'statsmodels.iolib.summary.Summary'>\n",
       "\"\"\"\n",
       "                 Generalized Linear Model Regression Results                  \n",
       "==============================================================================\n",
       "Dep. Variable:              Converted   No. Observations:                 6026\n",
       "Model:                            GLM   Df Residuals:                     6014\n",
       "Model Family:                Binomial   Df Model:                           11\n",
       "Link Function:                  logit   Scale:                          1.0000\n",
       "Method:                          IRLS   Log-Likelihood:                -2721.8\n",
       "Date:                Mon, 14 Jun 2021   Deviance:                       5443.6\n",
       "Time:                        21:18:53   Pearson chi2:                 6.20e+03\n",
       "No. Iterations:                     7                                         \n",
       "Covariance Type:            nonrobust                                         \n",
       "===================================================================================================\n",
       "                                      coef    std err          z      P>|z|      [0.025      0.975]\n",
       "---------------------------------------------------------------------------------------------------\n",
       "const                              -0.3835      0.114     -3.371      0.001      -0.607      -0.161\n",
       "Do Not Email                       -1.2570      0.161     -7.790      0.000      -1.573      -0.941\n",
       "Total Time Spent on Website         3.8636      0.149     25.884      0.000       3.571       4.156\n",
       "Origin_Landing Page Submission     -1.1443      0.118     -9.734      0.000      -1.375      -0.914\n",
       "Origin_Lead Add Form                2.5928      0.197     13.167      0.000       2.207       2.979\n",
       "Origin_Lead Import                 -0.5668      0.433     -1.310      0.190      -1.415       0.281\n",
       "Occupation_Other                   -0.4561      0.732     -0.623      0.533      -1.890       0.978\n",
       "Occupation_Working Professional     2.3966      0.195     12.316      0.000       2.015       2.778\n",
       "Specialization_Unknown             -0.8870      0.120     -7.411      0.000      -1.122      -0.652\n",
       "Source_Welingak Website             3.1492      1.027      3.068      0.002       1.137       5.161\n",
       "Matters_Unknown                    -1.2121      0.085    -14.184      0.000      -1.380      -1.045\n",
       "Country_outside india              -0.3948      0.201     -1.961      0.050      -0.789      -0.000\n",
       "===================================================================================================\n",
       "\"\"\""
      ]
     },
     "execution_count": 69,
     "metadata": {},
     "output_type": "execute_result"
    }
   ],
   "source": [
    "# P-value of 'Occupation_Housewife' is also high so needs to be dropped.\n",
    "\n",
    "cols = cols.drop('Occupation_Housewife', 1)\n",
    "\n",
    "X_train_sm = sm.add_constant(X_train[cols])\n",
    "\n",
    "logm5 = sm.GLM(y_train, X_train_sm, family = sm.families.Binomial())\n",
    "\n",
    "res = logm5.fit()\n",
    "res.summary()"
   ]
  },
  {
   "cell_type": "code",
   "execution_count": 70,
   "id": "d6978f30",
   "metadata": {},
   "outputs": [
    {
     "data": {
      "text/html": [
       "<table class=\"simpletable\">\n",
       "<caption>Generalized Linear Model Regression Results</caption>\n",
       "<tr>\n",
       "  <th>Dep. Variable:</th>       <td>Converted</td>    <th>  No. Observations:  </th>  <td>  6026</td> \n",
       "</tr>\n",
       "<tr>\n",
       "  <th>Model:</th>                  <td>GLM</td>       <th>  Df Residuals:      </th>  <td>  6016</td> \n",
       "</tr>\n",
       "<tr>\n",
       "  <th>Model Family:</th>        <td>Binomial</td>     <th>  Df Model:          </th>  <td>     9</td> \n",
       "</tr>\n",
       "<tr>\n",
       "  <th>Link Function:</th>         <td>logit</td>      <th>  Scale:             </th> <td>  1.0000</td>\n",
       "</tr>\n",
       "<tr>\n",
       "  <th>Method:</th>                <td>IRLS</td>       <th>  Log-Likelihood:    </th> <td> -2722.9</td>\n",
       "</tr>\n",
       "<tr>\n",
       "  <th>Date:</th>            <td>Mon, 14 Jun 2021</td> <th>  Deviance:          </th> <td>  5445.8</td>\n",
       "</tr>\n",
       "<tr>\n",
       "  <th>Time:</th>                <td>21:18:53</td>     <th>  Pearson chi2:      </th> <td>6.20e+03</td>\n",
       "</tr>\n",
       "<tr>\n",
       "  <th>No. Iterations:</th>          <td>7</td>        <th>                     </th>     <td> </td>   \n",
       "</tr>\n",
       "<tr>\n",
       "  <th>Covariance Type:</th>     <td>nonrobust</td>    <th>                     </th>     <td> </td>   \n",
       "</tr>\n",
       "</table>\n",
       "<table class=\"simpletable\">\n",
       "<tr>\n",
       "                 <td></td>                    <th>coef</th>     <th>std err</th>      <th>z</th>      <th>P>|z|</th>  <th>[0.025</th>    <th>0.975]</th>  \n",
       "</tr>\n",
       "<tr>\n",
       "  <th>const</th>                           <td>   -0.4017</td> <td>    0.113</td> <td>   -3.557</td> <td> 0.000</td> <td>   -0.623</td> <td>   -0.180</td>\n",
       "</tr>\n",
       "<tr>\n",
       "  <th>Do Not Email</th>                    <td>   -1.2570</td> <td>    0.161</td> <td>   -7.788</td> <td> 0.000</td> <td>   -1.573</td> <td>   -0.941</td>\n",
       "</tr>\n",
       "<tr>\n",
       "  <th>Total Time Spent on Website</th>     <td>    3.8630</td> <td>    0.149</td> <td>   25.920</td> <td> 0.000</td> <td>    3.571</td> <td>    4.155</td>\n",
       "</tr>\n",
       "<tr>\n",
       "  <th>Origin_Landing Page Submission</th>  <td>   -1.1282</td> <td>    0.117</td> <td>   -9.653</td> <td> 0.000</td> <td>   -1.357</td> <td>   -0.899</td>\n",
       "</tr>\n",
       "<tr>\n",
       "  <th>Origin_Lead Add Form</th>            <td>    2.6063</td> <td>    0.197</td> <td>   13.252</td> <td> 0.000</td> <td>    2.221</td> <td>    2.992</td>\n",
       "</tr>\n",
       "<tr>\n",
       "  <th>Occupation_Working Professional</th> <td>    2.3990</td> <td>    0.195</td> <td>   12.333</td> <td> 0.000</td> <td>    2.018</td> <td>    2.780</td>\n",
       "</tr>\n",
       "<tr>\n",
       "  <th>Specialization_Unknown</th>          <td>   -0.8789</td> <td>    0.119</td> <td>   -7.362</td> <td> 0.000</td> <td>   -1.113</td> <td>   -0.645</td>\n",
       "</tr>\n",
       "<tr>\n",
       "  <th>Source_Welingak Website</th>         <td>    3.1461</td> <td>    1.027</td> <td>    3.065</td> <td> 0.002</td> <td>    1.134</td> <td>    5.158</td>\n",
       "</tr>\n",
       "<tr>\n",
       "  <th>Matters_Unknown</th>                 <td>   -1.2077</td> <td>    0.085</td> <td>  -14.145</td> <td> 0.000</td> <td>   -1.375</td> <td>   -1.040</td>\n",
       "</tr>\n",
       "<tr>\n",
       "  <th>Country_outside india</th>           <td>   -0.3911</td> <td>    0.201</td> <td>   -1.943</td> <td> 0.052</td> <td>   -0.786</td> <td>    0.003</td>\n",
       "</tr>\n",
       "</table>"
      ],
      "text/plain": [
       "<class 'statsmodels.iolib.summary.Summary'>\n",
       "\"\"\"\n",
       "                 Generalized Linear Model Regression Results                  \n",
       "==============================================================================\n",
       "Dep. Variable:              Converted   No. Observations:                 6026\n",
       "Model:                            GLM   Df Residuals:                     6016\n",
       "Model Family:                Binomial   Df Model:                            9\n",
       "Link Function:                  logit   Scale:                          1.0000\n",
       "Method:                          IRLS   Log-Likelihood:                -2722.9\n",
       "Date:                Mon, 14 Jun 2021   Deviance:                       5445.8\n",
       "Time:                        21:18:53   Pearson chi2:                 6.20e+03\n",
       "No. Iterations:                     7                                         \n",
       "Covariance Type:            nonrobust                                         \n",
       "===================================================================================================\n",
       "                                      coef    std err          z      P>|z|      [0.025      0.975]\n",
       "---------------------------------------------------------------------------------------------------\n",
       "const                              -0.4017      0.113     -3.557      0.000      -0.623      -0.180\n",
       "Do Not Email                       -1.2570      0.161     -7.788      0.000      -1.573      -0.941\n",
       "Total Time Spent on Website         3.8630      0.149     25.920      0.000       3.571       4.155\n",
       "Origin_Landing Page Submission     -1.1282      0.117     -9.653      0.000      -1.357      -0.899\n",
       "Origin_Lead Add Form                2.6063      0.197     13.252      0.000       2.221       2.992\n",
       "Occupation_Working Professional     2.3990      0.195     12.333      0.000       2.018       2.780\n",
       "Specialization_Unknown             -0.8789      0.119     -7.362      0.000      -1.113      -0.645\n",
       "Source_Welingak Website             3.1461      1.027      3.065      0.002       1.134       5.158\n",
       "Matters_Unknown                    -1.2077      0.085    -14.145      0.000      -1.375      -1.040\n",
       "Country_outside india              -0.3911      0.201     -1.943      0.052      -0.786       0.003\n",
       "===================================================================================================\n",
       "\"\"\""
      ]
     },
     "execution_count": 70,
     "metadata": {},
     "output_type": "execute_result"
    }
   ],
   "source": [
    "# 'Origin_Lead Import' and 'Occupation_Other' have P-value greater than 0.05 so needs to dropped.\n",
    "\n",
    "cols = cols.drop(['Origin_Lead Import', 'Occupation_Other'], 1)\n",
    "\n",
    "X_train_sm = sm.add_constant(X_train[cols])\n",
    "\n",
    "logm6 = sm.GLM(y_train, X_train_sm, family = sm.families.Binomial())\n",
    "\n",
    "res = logm6.fit()\n",
    "res.summary()"
   ]
  },
  {
   "cell_type": "code",
   "execution_count": 71,
   "id": "671baaf3",
   "metadata": {},
   "outputs": [
    {
     "data": {
      "text/html": [
       "<div>\n",
       "<style scoped>\n",
       "    .dataframe tbody tr th:only-of-type {\n",
       "        vertical-align: middle;\n",
       "    }\n",
       "\n",
       "    .dataframe tbody tr th {\n",
       "        vertical-align: top;\n",
       "    }\n",
       "\n",
       "    .dataframe thead th {\n",
       "        text-align: right;\n",
       "    }\n",
       "</style>\n",
       "<table border=\"1\" class=\"dataframe\">\n",
       "  <thead>\n",
       "    <tr style=\"text-align: right;\">\n",
       "      <th></th>\n",
       "      <th>Converted</th>\n",
       "      <th>Probablity</th>\n",
       "    </tr>\n",
       "  </thead>\n",
       "  <tbody>\n",
       "    <tr>\n",
       "      <th>4678</th>\n",
       "      <td>0</td>\n",
       "      <td>0.074348</td>\n",
       "    </tr>\n",
       "    <tr>\n",
       "      <th>532</th>\n",
       "      <td>0</td>\n",
       "      <td>0.291902</td>\n",
       "    </tr>\n",
       "    <tr>\n",
       "      <th>7280</th>\n",
       "      <td>0</td>\n",
       "      <td>0.231764</td>\n",
       "    </tr>\n",
       "    <tr>\n",
       "      <th>4998</th>\n",
       "      <td>0</td>\n",
       "      <td>0.076677</td>\n",
       "    </tr>\n",
       "    <tr>\n",
       "      <th>6834</th>\n",
       "      <td>1</td>\n",
       "      <td>0.220460</td>\n",
       "    </tr>\n",
       "  </tbody>\n",
       "</table>\n",
       "</div>"
      ],
      "text/plain": [
       "      Converted  Probablity\n",
       "4678          0    0.074348\n",
       "532           0    0.291902\n",
       "7280          0    0.231764\n",
       "4998          0    0.076677\n",
       "6834          1    0.220460"
      ]
     },
     "execution_count": 71,
     "metadata": {},
     "output_type": "execute_result"
    }
   ],
   "source": [
    "# Prediction on train set\n",
    "\n",
    "y_train_pred = res.predict(X_train_sm)\n",
    "y_train_pred[:10]\n",
    "\n",
    "y_train_pred_final = pd.DataFrame({'Converted': y_train.values, 'Probablity': y_train_pred})\n",
    "y_train_pred_final.head()"
   ]
  },
  {
   "cell_type": "code",
   "execution_count": 72,
   "id": "c56f680c",
   "metadata": {},
   "outputs": [
    {
     "data": {
      "text/html": [
       "<div>\n",
       "<style scoped>\n",
       "    .dataframe tbody tr th:only-of-type {\n",
       "        vertical-align: middle;\n",
       "    }\n",
       "\n",
       "    .dataframe tbody tr th {\n",
       "        vertical-align: top;\n",
       "    }\n",
       "\n",
       "    .dataframe thead th {\n",
       "        text-align: right;\n",
       "    }\n",
       "</style>\n",
       "<table border=\"1\" class=\"dataframe\">\n",
       "  <thead>\n",
       "    <tr style=\"text-align: right;\">\n",
       "      <th></th>\n",
       "      <th>Converted</th>\n",
       "      <th>Probablity</th>\n",
       "      <th>Predicted</th>\n",
       "    </tr>\n",
       "  </thead>\n",
       "  <tbody>\n",
       "    <tr>\n",
       "      <th>4678</th>\n",
       "      <td>0</td>\n",
       "      <td>0.074348</td>\n",
       "      <td>0</td>\n",
       "    </tr>\n",
       "    <tr>\n",
       "      <th>532</th>\n",
       "      <td>0</td>\n",
       "      <td>0.291902</td>\n",
       "      <td>0</td>\n",
       "    </tr>\n",
       "    <tr>\n",
       "      <th>7280</th>\n",
       "      <td>0</td>\n",
       "      <td>0.231764</td>\n",
       "      <td>0</td>\n",
       "    </tr>\n",
       "    <tr>\n",
       "      <th>4998</th>\n",
       "      <td>0</td>\n",
       "      <td>0.076677</td>\n",
       "      <td>0</td>\n",
       "    </tr>\n",
       "    <tr>\n",
       "      <th>6834</th>\n",
       "      <td>1</td>\n",
       "      <td>0.220460</td>\n",
       "      <td>0</td>\n",
       "    </tr>\n",
       "  </tbody>\n",
       "</table>\n",
       "</div>"
      ],
      "text/plain": [
       "      Converted  Probablity  Predicted\n",
       "4678          0    0.074348          0\n",
       "532           0    0.291902          0\n",
       "7280          0    0.231764          0\n",
       "4998          0    0.076677          0\n",
       "6834          1    0.220460          0"
      ]
     },
     "execution_count": 72,
     "metadata": {},
     "output_type": "execute_result"
    }
   ],
   "source": [
    "# Creating new column 'Predicted' with values as 0 and 1 according to the probability predicted based on threshold value of 0.5 initially.\n",
    "\n",
    "y_train_pred_final['Predicted'] = y_train_pred_final.Probablity.map(lambda x: 1 if x>0.5 else 0)\n",
    "\n",
    "y_train_pred_final.head()"
   ]
  },
  {
   "cell_type": "markdown",
   "id": "69a9f002",
   "metadata": {},
   "source": [
    "Let's check the confusion matrix to asses the different accuracy measures of the model."
   ]
  },
  {
   "cell_type": "code",
   "execution_count": 73,
   "id": "e6fb8d4e",
   "metadata": {},
   "outputs": [
    {
     "data": {
      "text/plain": [
       "array([[3320,  420],\n",
       "       [ 828, 1458]], dtype=int64)"
      ]
     },
     "execution_count": 73,
     "metadata": {},
     "output_type": "execute_result"
    }
   ],
   "source": [
    "from sklearn import metrics\n",
    "\n",
    "confusion = metrics.confusion_matrix(y_train_pred_final.Converted, y_train_pred_final.Predicted)\n",
    "confusion"
   ]
  },
  {
   "cell_type": "markdown",
   "id": "c99ece6d",
   "metadata": {},
   "source": [
    "From confusion matrix we have,<br>\n",
    "\n",
    "TP = 1457\n",
    "FP = 420\n",
    "TN = 3320\n",
    "FN = 829"
   ]
  },
  {
   "cell_type": "code",
   "execution_count": 74,
   "id": "31873c97",
   "metadata": {},
   "outputs": [
    {
     "name": "stdout",
     "output_type": "stream",
     "text": [
      "0.7928974444075672\n"
     ]
    }
   ],
   "source": [
    "# Checking overall accuracy\n",
    "\n",
    "print(metrics.accuracy_score(y_train_pred_final.Converted, y_train_pred_final.Predicted))"
   ]
  },
  {
   "cell_type": "markdown",
   "id": "2203ede5",
   "metadata": {},
   "source": [
    "The obtained accuracy on training set came to be 79% (close to 80% which is required)."
   ]
  },
  {
   "cell_type": "code",
   "execution_count": 75,
   "id": "d94c45e1",
   "metadata": {},
   "outputs": [],
   "source": [
    "TP = confusion[1,1] #-True Positive\n",
    "FP = confusion[0,1] #-False Positive\n",
    "TN = confusion[0,0] #-True Negative\n",
    "FN = confusion[1,0] #-False Negative"
   ]
  },
  {
   "cell_type": "code",
   "execution_count": 76,
   "id": "b4ebca97",
   "metadata": {},
   "outputs": [
    {
     "name": "stdout",
     "output_type": "stream",
     "text": [
      "Sensitivity =  0.6377952755905512\n",
      "Specificity =  0.8877005347593583\n",
      "Flase Positive Rate =  0.11229946524064172\n"
     ]
    }
   ],
   "source": [
    "# Calculating Sensitivity\n",
    "\n",
    "print('Sensitivity = ', TP/float(TP+FN))\n",
    "\n",
    "# Calculating Specificity\n",
    "\n",
    "print('Specificity = ', TN/float(TN+FP))\n",
    "\n",
    "# Calculating Flase Positive Rate\n",
    "\n",
    "print('Flase Positive Rate = ',FP/float(TN+FP))"
   ]
  },
  {
   "cell_type": "code",
   "execution_count": 77,
   "id": "3b969313",
   "metadata": {},
   "outputs": [
    {
     "name": "stdout",
     "output_type": "stream",
     "text": [
      "positive predictive value =  0.7763578274760383\n",
      "Negative predictive value =  0.8003857280617165\n"
     ]
    }
   ],
   "source": [
    "# positive predictive value \n",
    "\n",
    "print ('positive predictive value = ',TP / float(TP+FP))\n",
    "\n",
    "# Negative predictive value\n",
    "\n",
    "print('Negative predictive value = ',TN / float(TN+ FN))"
   ]
  },
  {
   "cell_type": "code",
   "execution_count": 78,
   "id": "58a0d024",
   "metadata": {},
   "outputs": [],
   "source": [
    "def draw_roc( actual, probs ):\n",
    "    fpr, tpr, thresholds = metrics.roc_curve( actual, probs,\n",
    "                                              drop_intermediate = False )\n",
    "    auc_score = metrics.roc_auc_score( actual, probs )\n",
    "    plt.figure(figsize=(5, 5))\n",
    "    plt.plot( fpr, tpr, label='ROC curve (area = %0.2f)' % auc_score )\n",
    "    plt.plot([0, 1], [0, 1], 'k--')\n",
    "    plt.xlim([0.0, 1.0])\n",
    "    plt.ylim([0.0, 1.05])\n",
    "    plt.xlabel('False Positive Rate or [1 - True Negative Rate]')\n",
    "    plt.ylabel('True Positive Rate')\n",
    "    plt.title('Receiver operating characteristic example')\n",
    "    plt.legend(loc=\"lower right\")\n",
    "    plt.show()\n",
    "\n",
    "    return None"
   ]
  },
  {
   "cell_type": "code",
   "execution_count": 79,
   "id": "987fe1e7",
   "metadata": {},
   "outputs": [],
   "source": [
    "fpr, tpr, thresholds = metrics.roc_curve( y_train_pred_final.Converted, y_train_pred_final.Probablity, drop_intermediate = False )"
   ]
  },
  {
   "cell_type": "code",
   "execution_count": 80,
   "id": "dac9a3e2",
   "metadata": {},
   "outputs": [
    {
     "data": {
      "image/png": "[encoded data removed]",
      "text/plain": [
       "<Figure size 360x360 with 1 Axes>"
      ]
     },
     "metadata": {
      "needs_background": "light"
     },
     "output_type": "display_data"
    }
   ],
   "source": [
    "draw_roc(y_train_pred_final.Converted, y_train_pred_final.Probablity)"
   ]
  },
  {
   "cell_type": "markdown",
   "id": "4e3c01ae",
   "metadata": {},
   "source": [
    "So we have ROC curve area value as 0.85 which is quite acceptable."
   ]
  },
  {
   "cell_type": "markdown",
   "id": "8e81cd4c",
   "metadata": {},
   "source": [
    "So now, let us find the Optimal cut-off value for our predicted probablity."
   ]
  },
  {
   "cell_type": "code",
   "execution_count": 81,
   "id": "118f0133",
   "metadata": {},
   "outputs": [
    {
     "data": {
      "text/html": [
       "<div>\n",
       "<style scoped>\n",
       "    .dataframe tbody tr th:only-of-type {\n",
       "        vertical-align: middle;\n",
       "    }\n",
       "\n",
       "    .dataframe tbody tr th {\n",
       "        vertical-align: top;\n",
       "    }\n",
       "\n",
       "    .dataframe thead th {\n",
       "        text-align: right;\n",
       "    }\n",
       "</style>\n",
       "<table border=\"1\" class=\"dataframe\">\n",
       "  <thead>\n",
       "    <tr style=\"text-align: right;\">\n",
       "      <th></th>\n",
       "      <th>Converted</th>\n",
       "      <th>Probablity</th>\n",
       "      <th>Predicted</th>\n",
       "      <th>0.0</th>\n",
       "      <th>0.1</th>\n",
       "      <th>0.2</th>\n",
       "      <th>0.3</th>\n",
       "      <th>0.4</th>\n",
       "      <th>0.5</th>\n",
       "      <th>0.6</th>\n",
       "      <th>0.7</th>\n",
       "      <th>0.8</th>\n",
       "      <th>0.9</th>\n",
       "    </tr>\n",
       "  </thead>\n",
       "  <tbody>\n",
       "    <tr>\n",
       "      <th>4678</th>\n",
       "      <td>0</td>\n",
       "      <td>0.074348</td>\n",
       "      <td>0</td>\n",
       "      <td>1</td>\n",
       "      <td>0</td>\n",
       "      <td>0</td>\n",
       "      <td>0</td>\n",
       "      <td>0</td>\n",
       "      <td>0</td>\n",
       "      <td>0</td>\n",
       "      <td>0</td>\n",
       "      <td>0</td>\n",
       "      <td>0</td>\n",
       "    </tr>\n",
       "    <tr>\n",
       "      <th>532</th>\n",
       "      <td>0</td>\n",
       "      <td>0.291902</td>\n",
       "      <td>0</td>\n",
       "      <td>1</td>\n",
       "      <td>1</td>\n",
       "      <td>1</td>\n",
       "      <td>0</td>\n",
       "      <td>0</td>\n",
       "      <td>0</td>\n",
       "      <td>0</td>\n",
       "      <td>0</td>\n",
       "      <td>0</td>\n",
       "      <td>0</td>\n",
       "    </tr>\n",
       "    <tr>\n",
       "      <th>7280</th>\n",
       "      <td>0</td>\n",
       "      <td>0.231764</td>\n",
       "      <td>0</td>\n",
       "      <td>1</td>\n",
       "      <td>1</td>\n",
       "      <td>1</td>\n",
       "      <td>0</td>\n",
       "      <td>0</td>\n",
       "      <td>0</td>\n",
       "      <td>0</td>\n",
       "      <td>0</td>\n",
       "      <td>0</td>\n",
       "      <td>0</td>\n",
       "    </tr>\n",
       "    <tr>\n",
       "      <th>4998</th>\n",
       "      <td>0</td>\n",
       "      <td>0.076677</td>\n",
       "      <td>0</td>\n",
       "      <td>1</td>\n",
       "      <td>0</td>\n",
       "      <td>0</td>\n",
       "      <td>0</td>\n",
       "      <td>0</td>\n",
       "      <td>0</td>\n",
       "      <td>0</td>\n",
       "      <td>0</td>\n",
       "      <td>0</td>\n",
       "      <td>0</td>\n",
       "    </tr>\n",
       "    <tr>\n",
       "      <th>6834</th>\n",
       "      <td>1</td>\n",
       "      <td>0.220460</td>\n",
       "      <td>0</td>\n",
       "      <td>1</td>\n",
       "      <td>1</td>\n",
       "      <td>1</td>\n",
       "      <td>0</td>\n",
       "      <td>0</td>\n",
       "      <td>0</td>\n",
       "      <td>0</td>\n",
       "      <td>0</td>\n",
       "      <td>0</td>\n",
       "      <td>0</td>\n",
       "    </tr>\n",
       "  </tbody>\n",
       "</table>\n",
       "</div>"
      ],
      "text/plain": [
       "      Converted  Probablity  Predicted  0.0  0.1  0.2  0.3  0.4  0.5  0.6  \\\n",
       "4678          0    0.074348          0    1    0    0    0    0    0    0   \n",
       "532           0    0.291902          0    1    1    1    0    0    0    0   \n",
       "7280          0    0.231764          0    1    1    1    0    0    0    0   \n",
       "4998          0    0.076677          0    1    0    0    0    0    0    0   \n",
       "6834          1    0.220460          0    1    1    1    0    0    0    0   \n",
       "\n",
       "      0.7  0.8  0.9  \n",
       "4678    0    0    0  \n",
       "532     0    0    0  \n",
       "7280    0    0    0  \n",
       "4998    0    0    0  \n",
       "6834    0    0    0  "
      ]
     },
     "execution_count": 81,
     "metadata": {},
     "output_type": "execute_result"
    }
   ],
   "source": [
    "cuttoffs = [0.0, 0.1, 0.2, 0.3, 0.4, 0.5, 0.6, 0.7, 0.8, 0.9] # Creating range of cutt-offs to assess their accuracies.\n",
    "\n",
    "for i in cuttoffs:\n",
    "    y_train_pred_final[i] = y_train_pred_final.Probablity.map(lambda x: 1 if x > i else 0)\n",
    "y_train_pred_final.head()"
   ]
  },
  {
   "cell_type": "code",
   "execution_count": 82,
   "id": "50bb0691",
   "metadata": {},
   "outputs": [
    {
     "data": {
      "text/html": [
       "<div>\n",
       "<style scoped>\n",
       "    .dataframe tbody tr th:only-of-type {\n",
       "        vertical-align: middle;\n",
       "    }\n",
       "\n",
       "    .dataframe tbody tr th {\n",
       "        vertical-align: top;\n",
       "    }\n",
       "\n",
       "    .dataframe thead th {\n",
       "        text-align: right;\n",
       "    }\n",
       "</style>\n",
       "<table border=\"1\" class=\"dataframe\">\n",
       "  <thead>\n",
       "    <tr style=\"text-align: right;\">\n",
       "      <th></th>\n",
       "      <th>cutt_off</th>\n",
       "      <th>Accuracy</th>\n",
       "      <th>Sensitivity</th>\n",
       "      <th>Specificity</th>\n",
       "    </tr>\n",
       "  </thead>\n",
       "  <tbody>\n",
       "    <tr>\n",
       "      <th>0.0</th>\n",
       "      <td>0.0</td>\n",
       "      <td>0.379356</td>\n",
       "      <td>1.000000</td>\n",
       "      <td>0.000000</td>\n",
       "    </tr>\n",
       "    <tr>\n",
       "      <th>0.1</th>\n",
       "      <td>0.1</td>\n",
       "      <td>0.575838</td>\n",
       "      <td>0.969379</td>\n",
       "      <td>0.335294</td>\n",
       "    </tr>\n",
       "    <tr>\n",
       "      <th>0.2</th>\n",
       "      <td>0.2</td>\n",
       "      <td>0.655659</td>\n",
       "      <td>0.935258</td>\n",
       "      <td>0.484759</td>\n",
       "    </tr>\n",
       "    <tr>\n",
       "      <th>0.3</th>\n",
       "      <td>0.3</td>\n",
       "      <td>0.780451</td>\n",
       "      <td>0.784339</td>\n",
       "      <td>0.778075</td>\n",
       "    </tr>\n",
       "    <tr>\n",
       "      <th>0.4</th>\n",
       "      <td>0.4</td>\n",
       "      <td>0.803186</td>\n",
       "      <td>0.733596</td>\n",
       "      <td>0.845722</td>\n",
       "    </tr>\n",
       "    <tr>\n",
       "      <th>0.5</th>\n",
       "      <td>0.5</td>\n",
       "      <td>0.792897</td>\n",
       "      <td>0.637795</td>\n",
       "      <td>0.887701</td>\n",
       "    </tr>\n",
       "    <tr>\n",
       "      <th>0.6</th>\n",
       "      <td>0.6</td>\n",
       "      <td>0.778128</td>\n",
       "      <td>0.546807</td>\n",
       "      <td>0.919519</td>\n",
       "    </tr>\n",
       "    <tr>\n",
       "      <th>0.7</th>\n",
       "      <td>0.7</td>\n",
       "      <td>0.761036</td>\n",
       "      <td>0.458005</td>\n",
       "      <td>0.946257</td>\n",
       "    </tr>\n",
       "    <tr>\n",
       "      <th>0.8</th>\n",
       "      <td>0.8</td>\n",
       "      <td>0.728344</td>\n",
       "      <td>0.321960</td>\n",
       "      <td>0.976738</td>\n",
       "    </tr>\n",
       "    <tr>\n",
       "      <th>0.9</th>\n",
       "      <td>0.9</td>\n",
       "      <td>0.709094</td>\n",
       "      <td>0.247594</td>\n",
       "      <td>0.991176</td>\n",
       "    </tr>\n",
       "  </tbody>\n",
       "</table>\n",
       "</div>"
      ],
      "text/plain": [
       "     cutt_off  Accuracy  Sensitivity  Specificity\n",
       "0.0       0.0  0.379356     1.000000     0.000000\n",
       "0.1       0.1  0.575838     0.969379     0.335294\n",
       "0.2       0.2  0.655659     0.935258     0.484759\n",
       "0.3       0.3  0.780451     0.784339     0.778075\n",
       "0.4       0.4  0.803186     0.733596     0.845722\n",
       "0.5       0.5  0.792897     0.637795     0.887701\n",
       "0.6       0.6  0.778128     0.546807     0.919519\n",
       "0.7       0.7  0.761036     0.458005     0.946257\n",
       "0.8       0.8  0.728344     0.321960     0.976738\n",
       "0.9       0.9  0.709094     0.247594     0.991176"
      ]
     },
     "execution_count": 82,
     "metadata": {},
     "output_type": "execute_result"
    }
   ],
   "source": [
    "# Calculating Accuracy, Sensitivity and Specificity for above cutt-off values.\n",
    "\n",
    "cuttoff_metrics = pd.DataFrame(columns = ['cutt_off', 'Accuracy', 'Sensitivity', 'Specificity'])\n",
    "\n",
    "for i in cuttoffs:\n",
    "    cm1 = metrics.confusion_matrix(y_train_pred_final.Converted, y_train_pred_final[i])\n",
    "    \n",
    "    total1 = sum(sum(cm1))\n",
    "    Accuracy = (cm1[0, 0] + cm1[1, 1]) / total1\n",
    "    Sensitivity = cm1[1,1] / (cm1[1,0]+cm1[1,1])\n",
    "    Specificity = cm1[0,0] / (cm1[0,0]+cm1[0,1])\n",
    "    \n",
    "    cuttoff_metrics.loc[i] = [i, Accuracy, Sensitivity, Specificity]\n",
    "\n",
    "cuttoff_metrics"
   ]
  },
  {
   "cell_type": "code",
   "execution_count": 83,
   "id": "4b8013b0",
   "metadata": {},
   "outputs": [
    {
     "data": {
      "image/png": "[encoded data removed]",
      "text/plain": [
       "<Figure size 432x288 with 1 Axes>"
      ]
     },
     "metadata": {
      "needs_background": "light"
     },
     "output_type": "display_data"
    }
   ],
   "source": [
    "# Plotting the above accuracies to find an optimal cutt-off.\n",
    "\n",
    "cuttoff_metrics.plot.line(x='cutt_off', y=['Accuracy', 'Sensitivity', 'Specificity'])\n",
    "plt.show()"
   ]
  },
  {
   "cell_type": "markdown",
   "id": "55bf4a14",
   "metadata": {},
   "source": [
    "The intersection point is what gives us the optimal cut-off which is around 0.35."
   ]
  },
  {
   "cell_type": "code",
   "execution_count": 84,
   "id": "46a4950a",
   "metadata": {},
   "outputs": [
    {
     "data": {
      "text/html": [
       "<div>\n",
       "<style scoped>\n",
       "    .dataframe tbody tr th:only-of-type {\n",
       "        vertical-align: middle;\n",
       "    }\n",
       "\n",
       "    .dataframe tbody tr th {\n",
       "        vertical-align: top;\n",
       "    }\n",
       "\n",
       "    .dataframe thead th {\n",
       "        text-align: right;\n",
       "    }\n",
       "</style>\n",
       "<table border=\"1\" class=\"dataframe\">\n",
       "  <thead>\n",
       "    <tr style=\"text-align: right;\">\n",
       "      <th></th>\n",
       "      <th>Converted</th>\n",
       "      <th>Probablity</th>\n",
       "      <th>Predicted</th>\n",
       "      <th>0.0</th>\n",
       "      <th>0.1</th>\n",
       "      <th>0.2</th>\n",
       "      <th>0.3</th>\n",
       "      <th>0.4</th>\n",
       "      <th>0.5</th>\n",
       "      <th>0.6</th>\n",
       "      <th>0.7</th>\n",
       "      <th>0.8</th>\n",
       "      <th>0.9</th>\n",
       "      <th>final_prediction</th>\n",
       "    </tr>\n",
       "  </thead>\n",
       "  <tbody>\n",
       "    <tr>\n",
       "      <th>4678</th>\n",
       "      <td>0</td>\n",
       "      <td>0.074348</td>\n",
       "      <td>0</td>\n",
       "      <td>1</td>\n",
       "      <td>0</td>\n",
       "      <td>0</td>\n",
       "      <td>0</td>\n",
       "      <td>0</td>\n",
       "      <td>0</td>\n",
       "      <td>0</td>\n",
       "      <td>0</td>\n",
       "      <td>0</td>\n",
       "      <td>0</td>\n",
       "      <td>0</td>\n",
       "    </tr>\n",
       "    <tr>\n",
       "      <th>532</th>\n",
       "      <td>0</td>\n",
       "      <td>0.291902</td>\n",
       "      <td>0</td>\n",
       "      <td>1</td>\n",
       "      <td>1</td>\n",
       "      <td>1</td>\n",
       "      <td>0</td>\n",
       "      <td>0</td>\n",
       "      <td>0</td>\n",
       "      <td>0</td>\n",
       "      <td>0</td>\n",
       "      <td>0</td>\n",
       "      <td>0</td>\n",
       "      <td>0</td>\n",
       "    </tr>\n",
       "    <tr>\n",
       "      <th>7280</th>\n",
       "      <td>0</td>\n",
       "      <td>0.231764</td>\n",
       "      <td>0</td>\n",
       "      <td>1</td>\n",
       "      <td>1</td>\n",
       "      <td>1</td>\n",
       "      <td>0</td>\n",
       "      <td>0</td>\n",
       "      <td>0</td>\n",
       "      <td>0</td>\n",
       "      <td>0</td>\n",
       "      <td>0</td>\n",
       "      <td>0</td>\n",
       "      <td>0</td>\n",
       "    </tr>\n",
       "    <tr>\n",
       "      <th>4998</th>\n",
       "      <td>0</td>\n",
       "      <td>0.076677</td>\n",
       "      <td>0</td>\n",
       "      <td>1</td>\n",
       "      <td>0</td>\n",
       "      <td>0</td>\n",
       "      <td>0</td>\n",
       "      <td>0</td>\n",
       "      <td>0</td>\n",
       "      <td>0</td>\n",
       "      <td>0</td>\n",
       "      <td>0</td>\n",
       "      <td>0</td>\n",
       "      <td>0</td>\n",
       "    </tr>\n",
       "    <tr>\n",
       "      <th>6834</th>\n",
       "      <td>1</td>\n",
       "      <td>0.220460</td>\n",
       "      <td>0</td>\n",
       "      <td>1</td>\n",
       "      <td>1</td>\n",
       "      <td>1</td>\n",
       "      <td>0</td>\n",
       "      <td>0</td>\n",
       "      <td>0</td>\n",
       "      <td>0</td>\n",
       "      <td>0</td>\n",
       "      <td>0</td>\n",
       "      <td>0</td>\n",
       "      <td>0</td>\n",
       "    </tr>\n",
       "  </tbody>\n",
       "</table>\n",
       "</div>"
      ],
      "text/plain": [
       "      Converted  Probablity  Predicted  0.0  0.1  0.2  0.3  0.4  0.5  0.6  \\\n",
       "4678          0    0.074348          0    1    0    0    0    0    0    0   \n",
       "532           0    0.291902          0    1    1    1    0    0    0    0   \n",
       "7280          0    0.231764          0    1    1    1    0    0    0    0   \n",
       "4998          0    0.076677          0    1    0    0    0    0    0    0   \n",
       "6834          1    0.220460          0    1    1    1    0    0    0    0   \n",
       "\n",
       "      0.7  0.8  0.9  final_prediction  \n",
       "4678    0    0    0                 0  \n",
       "532     0    0    0                 0  \n",
       "7280    0    0    0                 0  \n",
       "4998    0    0    0                 0  \n",
       "6834    0    0    0                 0  "
      ]
     },
     "execution_count": 84,
     "metadata": {},
     "output_type": "execute_result"
    }
   ],
   "source": [
    "y_train_pred_final['final_prediction'] = y_train_pred_final.Probablity.map(lambda x: 1 if x > 0.35 else 0)\n",
    "\n",
    "y_train_pred_final.head()"
   ]
  },
  {
   "cell_type": "code",
   "execution_count": 85,
   "id": "833f8724",
   "metadata": {},
   "outputs": [
    {
     "name": "stdout",
     "output_type": "stream",
     "text": [
      "0.7972120809824096\n"
     ]
    }
   ],
   "source": [
    "# Checking overall accuracy again\n",
    "\n",
    "print(metrics.accuracy_score(y_train_pred_final.Converted, y_train_pred_final.final_prediction))"
   ]
  },
  {
   "cell_type": "code",
   "execution_count": 86,
   "id": "a222d3da",
   "metadata": {},
   "outputs": [
    {
     "data": {
      "text/plain": [
       "array([[3077,  663],\n",
       "       [ 559, 1727]], dtype=int64)"
      ]
     },
     "execution_count": 86,
     "metadata": {},
     "output_type": "execute_result"
    }
   ],
   "source": [
    "# Lets see the confusion matrix again.\n",
    "\n",
    "confusion2 = metrics.confusion_matrix(y_train_pred_final.Converted, y_train_pred_final.final_prediction)\n",
    "confusion2"
   ]
  },
  {
   "cell_type": "code",
   "execution_count": 87,
   "id": "62a89568",
   "metadata": {},
   "outputs": [
    {
     "name": "stdout",
     "output_type": "stream",
     "text": [
      "Sensitivity =  0.6377952755905512\n",
      "Specificity =  0.8877005347593583\n",
      "Flase Positive Rate =  0.11229946524064172\n"
     ]
    }
   ],
   "source": [
    "TP = confusion[1,1] #-True Positive\n",
    "FP = confusion[0,1] #-False Positive\n",
    "TN = confusion[0,0] #-True Negative\n",
    "FN = confusion[1,0] #-False Negative\n",
    "\n",
    "# Calculating Sensitivity\n",
    "\n",
    "print('Sensitivity = ', TP/float(TP+FN))\n",
    "\n",
    "# Calculating Specificity\n",
    "\n",
    "print('Specificity = ', TN/float(TN+FP))\n",
    "\n",
    "# Calculating Flase Positive Rate\n",
    "\n",
    "print('Flase Positive Rate = ',FP/float(TN+FP))"
   ]
  },
  {
   "cell_type": "markdown",
   "id": "4e275b0c",
   "metadata": {},
   "source": [
    "Checking the precision-recall curve."
   ]
  },
  {
   "cell_type": "code",
   "execution_count": 88,
   "id": "d6a99541",
   "metadata": {},
   "outputs": [
    {
     "name": "stdout",
     "output_type": "stream",
     "text": [
      "0.7225941422594142\n",
      "0.7554680664916885\n"
     ]
    }
   ],
   "source": [
    "from sklearn.metrics import precision_score, recall_score\n",
    "\n",
    "print(precision_score(y_train_pred_final.Converted , y_train_pred_final.final_prediction))\n",
    "\n",
    "print(recall_score(y_train_pred_final.Converted, y_train_pred_final.final_prediction))"
   ]
  },
  {
   "cell_type": "code",
   "execution_count": 89,
   "id": "24c9f716",
   "metadata": {},
   "outputs": [
    {
     "data": {
      "image/png": "[encoded data removed]",
      "text/plain": [
       "<Figure size 432x288 with 1 Axes>"
      ]
     },
     "metadata": {
      "needs_background": "light"
     },
     "output_type": "display_data"
    }
   ],
   "source": [
    "# Precision-Recall curve\n",
    "\n",
    "from sklearn.metrics import precision_recall_curve\n",
    "\n",
    "# y_train_pred_final.Converted, y_train_pred_final.final_Predicted\n",
    "\n",
    "p, r, thresholds = precision_recall_curve(y_train_pred_final.Converted, y_train_pred_final.Probablity)\n",
    "\n",
    "plt.plot(thresholds, p[:-1], \"g-\")\n",
    "plt.plot(thresholds, r[:-1], \"r-\")\n",
    "plt.show()"
   ]
  },
  {
   "cell_type": "markdown",
   "id": "1f99ef82",
   "metadata": {},
   "source": [
    "Now that we have a decent model built, let's do prediction on test set too."
   ]
  },
  {
   "cell_type": "code",
   "execution_count": 90,
   "id": "e121134f",
   "metadata": {},
   "outputs": [],
   "source": [
    "# Scaling test set\n",
    "\n",
    "X_test[['TotalVisits', 'Total Time Spent on Website', 'Page Views Per Visit']] = scaler.fit_transform(X_test[['TotalVisits', 'Total Time Spent on Website', 'Page Views Per Visit']])"
   ]
  },
  {
   "cell_type": "code",
   "execution_count": 91,
   "id": "b3ec5c9f",
   "metadata": {},
   "outputs": [],
   "source": [
    "X_test_sm = sm.add_constant(X_test[cols])"
   ]
  },
  {
   "cell_type": "code",
   "execution_count": 92,
   "id": "1208ec31",
   "metadata": {},
   "outputs": [
    {
     "data": {
      "text/html": [
       "<div>\n",
       "<style scoped>\n",
       "    .dataframe tbody tr th:only-of-type {\n",
       "        vertical-align: middle;\n",
       "    }\n",
       "\n",
       "    .dataframe tbody tr th {\n",
       "        vertical-align: top;\n",
       "    }\n",
       "\n",
       "    .dataframe thead th {\n",
       "        text-align: right;\n",
       "    }\n",
       "</style>\n",
       "<table border=\"1\" class=\"dataframe\">\n",
       "  <thead>\n",
       "    <tr style=\"text-align: right;\">\n",
       "      <th></th>\n",
       "      <th>Converted</th>\n",
       "      <th>Probability</th>\n",
       "    </tr>\n",
       "  </thead>\n",
       "  <tbody>\n",
       "    <tr>\n",
       "      <th>377</th>\n",
       "      <td>1</td>\n",
       "      <td>0.586796</td>\n",
       "    </tr>\n",
       "    <tr>\n",
       "      <th>8911</th>\n",
       "      <td>1</td>\n",
       "      <td>0.076677</td>\n",
       "    </tr>\n",
       "    <tr>\n",
       "      <th>7339</th>\n",
       "      <td>0</td>\n",
       "      <td>0.076677</td>\n",
       "    </tr>\n",
       "    <tr>\n",
       "      <th>6340</th>\n",
       "      <td>0</td>\n",
       "      <td>0.076677</td>\n",
       "    </tr>\n",
       "    <tr>\n",
       "      <th>3786</th>\n",
       "      <td>1</td>\n",
       "      <td>0.972413</td>\n",
       "    </tr>\n",
       "  </tbody>\n",
       "</table>\n",
       "</div>"
      ],
      "text/plain": [
       "      Converted  Probability\n",
       "377           1     0.586796\n",
       "8911          1     0.076677\n",
       "7339          0     0.076677\n",
       "6340          0     0.076677\n",
       "3786          1     0.972413"
      ]
     },
     "execution_count": 92,
     "metadata": {},
     "output_type": "execute_result"
    }
   ],
   "source": [
    "y_test_pred = res.predict(X_test_sm) # Predicting the target values.\n",
    "\n",
    "# Creating a dataframe with actual converted values and corresponding predicted values.\n",
    "\n",
    "y_test_pred_df = pd.DataFrame({'Converted':y_test, 'Probability': y_test_pred})\n",
    "\n",
    "y_test_pred_df.head()"
   ]
  },
  {
   "cell_type": "code",
   "execution_count": 93,
   "id": "6531b5c2",
   "metadata": {},
   "outputs": [
    {
     "data": {
      "text/html": [
       "<div>\n",
       "<style scoped>\n",
       "    .dataframe tbody tr th:only-of-type {\n",
       "        vertical-align: middle;\n",
       "    }\n",
       "\n",
       "    .dataframe tbody tr th {\n",
       "        vertical-align: top;\n",
       "    }\n",
       "\n",
       "    .dataframe thead th {\n",
       "        text-align: right;\n",
       "    }\n",
       "</style>\n",
       "<table border=\"1\" class=\"dataframe\">\n",
       "  <thead>\n",
       "    <tr style=\"text-align: right;\">\n",
       "      <th></th>\n",
       "      <th>Converted</th>\n",
       "      <th>Probability</th>\n",
       "      <th>final_prediction</th>\n",
       "    </tr>\n",
       "  </thead>\n",
       "  <tbody>\n",
       "    <tr>\n",
       "      <th>377</th>\n",
       "      <td>1</td>\n",
       "      <td>0.586796</td>\n",
       "      <td>1</td>\n",
       "    </tr>\n",
       "    <tr>\n",
       "      <th>8911</th>\n",
       "      <td>1</td>\n",
       "      <td>0.076677</td>\n",
       "      <td>0</td>\n",
       "    </tr>\n",
       "    <tr>\n",
       "      <th>7339</th>\n",
       "      <td>0</td>\n",
       "      <td>0.076677</td>\n",
       "      <td>0</td>\n",
       "    </tr>\n",
       "    <tr>\n",
       "      <th>6340</th>\n",
       "      <td>0</td>\n",
       "      <td>0.076677</td>\n",
       "      <td>0</td>\n",
       "    </tr>\n",
       "    <tr>\n",
       "      <th>3786</th>\n",
       "      <td>1</td>\n",
       "      <td>0.972413</td>\n",
       "      <td>1</td>\n",
       "    </tr>\n",
       "  </tbody>\n",
       "</table>\n",
       "</div>"
      ],
      "text/plain": [
       "      Converted  Probability  final_prediction\n",
       "377           1     0.586796                 1\n",
       "8911          1     0.076677                 0\n",
       "7339          0     0.076677                 0\n",
       "6340          0     0.076677                 0\n",
       "3786          1     0.972413                 1"
      ]
     },
     "execution_count": 93,
     "metadata": {},
     "output_type": "execute_result"
    }
   ],
   "source": [
    "y_test_pred_df['final_prediction'] = y_test_pred_df.Probability.map(lambda x: 1 if x > 0.35 else 0)\n",
    "y_test_pred_df.head()"
   ]
  },
  {
   "cell_type": "code",
   "execution_count": 94,
   "id": "24b6113b",
   "metadata": {},
   "outputs": [
    {
     "name": "stdout",
     "output_type": "stream",
     "text": [
      "0.7990708478513356\n"
     ]
    }
   ],
   "source": [
    "# Checking overall accuracy.\n",
    "\n",
    "print(metrics.accuracy_score(y_test_pred_df.Converted, y_test_pred_df.final_prediction))"
   ]
  },
  {
   "cell_type": "markdown",
   "id": "e8d072e7",
   "metadata": {},
   "source": [
    "So the model's accuracy on test set is also 79% (round to 80%) which is a good sign of a decent model."
   ]
  },
  {
   "cell_type": "code",
   "execution_count": 95,
   "id": "ee8e7572",
   "metadata": {},
   "outputs": [
    {
     "data": {
      "text/plain": [
       "array([[1314,  289],\n",
       "       [ 230,  750]], dtype=int64)"
      ]
     },
     "execution_count": 95,
     "metadata": {},
     "output_type": "execute_result"
    }
   ],
   "source": [
    "confusion3 = metrics.confusion_matrix(y_test_pred_df.Converted, y_test_pred_df.final_prediction)\n",
    "confusion3"
   ]
  },
  {
   "cell_type": "code",
   "execution_count": 96,
   "id": "8ee05be1",
   "metadata": {},
   "outputs": [
    {
     "name": "stdout",
     "output_type": "stream",
     "text": [
      "Sensitivity =  0.7653061224489796\n",
      "Specificity =  0.8197130380536494\n"
     ]
    }
   ],
   "source": [
    "TP = confusion3[1,1] #-True Positive\n",
    "FP = confusion3[0,1] #-False Positive\n",
    "TN = confusion3[0,0] #-True Negative\n",
    "FN = confusion3[1,0] #-False Negative\n",
    "\n",
    "# Calculating Sensitivity\n",
    "\n",
    "print('Sensitivity = ', TP/float(TP+FN))\n",
    "\n",
    "# Calculating Specificity\n",
    "\n",
    "print('Specificity = ', TN/float(TN+FP))"
   ]
  },
  {
   "cell_type": "code",
   "execution_count": 97,
   "id": "d3396c5d",
   "metadata": {},
   "outputs": [
    {
     "data": {
      "text/html": [
       "<div>\n",
       "<style scoped>\n",
       "    .dataframe tbody tr th:only-of-type {\n",
       "        vertical-align: middle;\n",
       "    }\n",
       "\n",
       "    .dataframe tbody tr th {\n",
       "        vertical-align: top;\n",
       "    }\n",
       "\n",
       "    .dataframe thead th {\n",
       "        text-align: right;\n",
       "    }\n",
       "</style>\n",
       "<table border=\"1\" class=\"dataframe\">\n",
       "  <thead>\n",
       "    <tr style=\"text-align: right;\">\n",
       "      <th></th>\n",
       "      <th>Converted</th>\n",
       "      <th>Probability</th>\n",
       "      <th>final_prediction</th>\n",
       "      <th>Lead Score</th>\n",
       "    </tr>\n",
       "  </thead>\n",
       "  <tbody>\n",
       "    <tr>\n",
       "      <th>377</th>\n",
       "      <td>1</td>\n",
       "      <td>0.586796</td>\n",
       "      <td>1</td>\n",
       "      <td>59</td>\n",
       "    </tr>\n",
       "    <tr>\n",
       "      <th>8911</th>\n",
       "      <td>1</td>\n",
       "      <td>0.076677</td>\n",
       "      <td>0</td>\n",
       "      <td>8</td>\n",
       "    </tr>\n",
       "    <tr>\n",
       "      <th>7339</th>\n",
       "      <td>0</td>\n",
       "      <td>0.076677</td>\n",
       "      <td>0</td>\n",
       "      <td>8</td>\n",
       "    </tr>\n",
       "    <tr>\n",
       "      <th>6340</th>\n",
       "      <td>0</td>\n",
       "      <td>0.076677</td>\n",
       "      <td>0</td>\n",
       "      <td>8</td>\n",
       "    </tr>\n",
       "    <tr>\n",
       "      <th>3786</th>\n",
       "      <td>1</td>\n",
       "      <td>0.972413</td>\n",
       "      <td>1</td>\n",
       "      <td>97</td>\n",
       "    </tr>\n",
       "  </tbody>\n",
       "</table>\n",
       "</div>"
      ],
      "text/plain": [
       "      Converted  Probability  final_prediction  Lead Score\n",
       "377           1     0.586796                 1          59\n",
       "8911          1     0.076677                 0           8\n",
       "7339          0     0.076677                 0           8\n",
       "6340          0     0.076677                 0           8\n",
       "3786          1     0.972413                 1          97"
      ]
     },
     "execution_count": 97,
     "metadata": {},
     "output_type": "execute_result"
    }
   ],
   "source": [
    "y_test_pred_df['Lead Score'] = y_test_pred_df.Probability.map(lambda x: round(x * 100))\n",
    "y_test_pred_df.head()"
   ]
  },
  {
   "cell_type": "markdown",
   "id": "728e4280",
   "metadata": {},
   "source": [
    "# Conclusion\n",
    "\n",
    "Following points are to be remembered in order to get more lead conversions :\n",
    "\n",
    "1. The total time spent on the Website gives good prediction of successful lead conversion.\n",
    "2. Lead Source from Google, Direct Traffic and Olark Chat have good conversions, so should focus more on them. Also Reference and Welingak Website higher conversion rate, so should not be ignored at any cost.\n",
    "3. Lead Origin from Add Form have good conversion rate.\n",
    "4. Unemployeed and Working Professionals are seen to be converted better than others."
   ]
  }
 ],
 "metadata": {
  "kernelspec": {
   "display_name": "Python 3",
   "language": "python",
   "name": "python3"
  },
  "language_info": {
   "codemirror_mode": {
    "name": "ipython",
    "version": 3
   },
   "file_extension": ".py",
   "mimetype": "text/x-python",
   "name": "python",
   "nbconvert_exporter": "python",
   "pygments_lexer": "ipython3",
   "version": "3.8.8"
  }
 },
 "nbformat": 4,
 "nbformat_minor": 5
}
